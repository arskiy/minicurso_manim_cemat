{
 "cells": [
  {
   "cell_type": "code",
   "execution_count": 1,
   "id": "159aee12-fe92-4fae-bc5d-794d659c3493",
   "metadata": {},
   "outputs": [
    {
     "name": "stderr",
     "output_type": "stream",
     "text": [
      "/usr/local/lib/python3.11/site-packages/pydub/utils.py:170: RuntimeWarning: Couldn't find ffmpeg or avconv - defaulting to ffmpeg, but may not work\n",
      "  warn(\"Couldn't find ffmpeg or avconv - defaulting to ffmpeg, but may not work\", RuntimeWarning)\n"
     ]
    }
   ],
   "source": [
    "from manim import *\n",
    "\n",
    "config.media_width = \"75%\"\n",
    "config.verbosity = \"WARNING\""
   ]
  },
  {
   "cell_type": "code",
   "execution_count": 3,
   "id": "5bfe3fb3-275f-47fc-80de-1edad1cb3fe8",
   "metadata": {},
   "outputs": [
    {
     "data": {
      "text/html": [
       "<pre style=\"white-space:pre;overflow-x:auto;line-height:normal;font-family:Menlo,'DejaVu Sans Mono',consolas,'Courier New',monospace\">Manim Community <span style=\"color: #008000; text-decoration-color: #008000\">v0.19.0</span>\n",
       "\n",
       "</pre>\n"
      ],
      "text/plain": [
       "Manim Community \u001b[32mv0.\u001b[0m\u001b[32m19.0\u001b[0m\n",
       "\n"
      ]
     },
     "metadata": {},
     "output_type": "display_data"
    },
    {
     "name": "stderr",
     "output_type": "stream",
     "text": [
      "                                                                                                                                                                                                                                                                                                                                                 "
     ]
    },
    {
     "data": {
      "text/html": [
       "<video src=\"media/jupyter/Lorenz@2025-10-03@01-02-44.mp4\" controls autoplay loop style=\"max-width: 75%;\"  >\n",
       "      Your browser does not support the <code>video</code> element.\n",
       "    </video>"
      ],
      "text/plain": [
       "<IPython.core.display.Video object>"
      ]
     },
     "metadata": {},
     "output_type": "display_data"
    }
   ],
   "source": [
    "%%manim -qm Lorenz\n",
    "\n",
    "class Lorenz(ThreeDScene):\n",
    "    def construct(self):\n",
    "        self.camera.background_color = DARKER_GRAY\n",
    "        \n",
    "        cond_iniciais = [np.array([-1.0, 1.0, 0.0]), \n",
    "                         np.array([-0.8, 1.0, 0.0]), \n",
    "                         np.array([-1.0, 0.8, 0.0])]\n",
    "        escala = 0.1\n",
    "        epsilon = 0.01\n",
    "\n",
    "        cores = [MAROON, PURPLE, TEAL]\n",
    "        curvas = VGroup()\n",
    "\n",
    "        # para cada combinação de valor inicial e cor, crie uma curva\n",
    "        for pos_ini, cor in zip(cond_iniciais, cores):\n",
    "            f = self.trajetoria(pos_ini, dt=epsilon)\n",
    "            curva = ParametricFunction(\n",
    "                lambda t: f(t),\n",
    "                color=cor,\n",
    "                t_range=np.array([0, 30, epsilon]),  # tempo de simulação é de 0 a 30 segundos, com cálculos a cada 0.01 segundos e interpolados\n",
    "                use_vectorized=False\n",
    "            )\n",
    "            curva.scale(escala)\n",
    "            curva.move_to(ORIGIN)\n",
    "            curvas.add(curva)\n",
    "\n",
    "        self.set_camera_orientation(phi=80 * DEGREES, theta=45 * DEGREES)\n",
    "        self.begin_ambient_camera_rotation(rate=0.1)\n",
    "\n",
    "        # equações do sistema de Lorenz. O manim irá, por baixo do tapete, compilar separadamente\n",
    "        # as letras x, y, z para colori-las separadamente (e por isso o uso do \\over ao invés de \\frac)\n",
    "        equacoes = MathTex(\n",
    "            r\"\"\"\n",
    "            {\\mathrm{d} x} \\over {\\mathrm{d} t} &= \\sigma(y - x) \\\\\n",
    "            {\\mathrm{d} y} \\over {\\mathrm{d} t} &= x(\\rho - z) - y \\\\\n",
    "            {\\mathrm{d} z} \\over {\\mathrm{d} t} &= xy - \\beta z\n",
    "            \"\"\",\n",
    "            substrings_to_isolate=[\"x\", \"y\", \"z\"]\n",
    "        ).scale(0.6)\n",
    "        equacoes.set_color_by_tex('x', RED)\n",
    "        equacoes.set_color_by_tex('y', GREEN)\n",
    "        equacoes.set_color_by_tex('z', BLUE)\n",
    "\n",
    "        # equações no canto superior esquerdo\n",
    "        equacoes.to_edge(UL)\n",
    "\n",
    "        # equações não devem se mover junto com a câmera\n",
    "        self.add_fixed_in_frame_mobjects(equacoes)\n",
    "        self.play(Write(equacoes), run_time=1.5)\n",
    "\n",
    "        # crie todas as curvas na lista simultaneamente\n",
    "        self.play(*[Create(c) for c in curvas], run_time=20, rate_func=linear)\n",
    "\n",
    "    def lorenz_system(self, pos, sigma=10, rho=28, beta=8 / 3):\n",
    "        \"\"\"Equações diferenciais do atrator de Lorenz.\"\"\"\n",
    "        x, y, z = pos\n",
    "        dx_dt = sigma * (y - x)\n",
    "        dy_dt = x * (rho - z) - y\n",
    "        dz_dt = x * y - beta * z\n",
    "        return np.array([dx_dt, dy_dt, dz_dt])\n",
    "\n",
    "    def rk4_step(self, pos, dt):\n",
    "        \"\"\"Um passo do método de Runge-Kutta de 4ª ordem.\"\"\"\n",
    "        k1 = self.lorenz_system(pos)\n",
    "        k2 = self.lorenz_system(pos + dt * k1 / 2)\n",
    "        k3 = self.lorenz_system(pos + dt * k2 / 2)\n",
    "        k4 = self.lorenz_system(pos + dt * k3)\n",
    "        return pos + dt * (k1 + 2 * k2 + 2 * k3 + k4) / 6\n",
    "\n",
    "    def trajetoria(self, start_pos, dt=0.01):\n",
    "        \"\"\"\n",
    "        Retorna uma função f(t) que dá a posição no tempo t\n",
    "        a partir de uma integração numérica.\n",
    "        \"\"\"\n",
    "        cache = {0: np.array(start_pos)}\n",
    "        def f(t):\n",
    "            # arredonda t para múltiplos de dt\n",
    "            steps = int(np.round(t / dt))\n",
    "            if steps in cache:\n",
    "                return cache[steps]\n",
    "            # integra até o passo desejado\n",
    "            pos = cache[max(cache.keys())]\n",
    "            for i in range(max(cache.keys()) + 1, steps + 1):\n",
    "                pos = self.rk4_step(pos, dt)\n",
    "                cache[i] = pos\n",
    "            return cache[steps]\n",
    "        return f"
   ]
  }
 ],
 "metadata": {
  "kernelspec": {
   "display_name": "Python 3 (ipykernel)",
   "language": "python",
   "name": "python3"
  },
  "language_info": {
   "codemirror_mode": {
    "name": "ipython",
    "version": 3
   },
   "file_extension": ".py",
   "mimetype": "text/x-python",
   "name": "python",
   "nbconvert_exporter": "python",
   "pygments_lexer": "ipython3",
   "version": "3.11.11"
  }
 },
 "nbformat": 4,
 "nbformat_minor": 5
}
