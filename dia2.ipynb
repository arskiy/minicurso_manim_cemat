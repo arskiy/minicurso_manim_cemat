{
 "cells": [
  {
   "cell_type": "code",
   "execution_count": 2,
   "id": "04caeab1-2baa-4524-83b6-6a62e56b1463",
   "metadata": {},
   "outputs": [
    {
     "name": "stderr",
     "output_type": "stream",
     "text": [
      "/usr/local/lib/python3.11/site-packages/pydub/utils.py:170: RuntimeWarning: Couldn't find ffmpeg or avconv - defaulting to ffmpeg, but may not work\n",
      "  warn(\"Couldn't find ffmpeg or avconv - defaulting to ffmpeg, but may not work\", RuntimeWarning)\n"
     ]
    }
   ],
   "source": [
    "from manim import *\n",
    "import numpy as np\n",
    "\n",
    "config.media_width = \"75%\"\n",
    "config.verbosity = \"WARNING\""
   ]
  },
  {
   "cell_type": "code",
   "execution_count": 2,
   "id": "1e8f4f59-7a33-4d2b-9e18-41ea78c4f676",
   "metadata": {},
   "outputs": [
    {
     "data": {
      "text/html": [
       "<pre style=\"white-space:pre;overflow-x:auto;line-height:normal;font-family:Menlo,'DejaVu Sans Mono',consolas,'Courier New',monospace\">Manim Community <span style=\"color: #008000; text-decoration-color: #008000\">v0.19.0</span>\n",
       "\n",
       "</pre>\n"
      ],
      "text/plain": [
       "Manim Community \u001b[32mv0.\u001b[0m\u001b[32m19.0\u001b[0m\n",
       "\n"
      ]
     },
     "metadata": {},
     "output_type": "display_data"
    },
    {
     "name": "stderr",
     "output_type": "stream",
     "text": [
      "                                                                                                 "
     ]
    },
    {
     "data": {
      "text/html": [
       "<video src=\"media/jupyter/IntegralExp@2025-10-07@01-02-35.mp4\" controls autoplay loop style=\"max-width: 75%;\"  >\n",
       "      Your browser does not support the <code>video</code> element.\n",
       "    </video>"
      ],
      "text/plain": [
       "<IPython.core.display.Video object>"
      ]
     },
     "metadata": {},
     "output_type": "display_data"
    }
   ],
   "source": [
    "%%manim -qm IntegralExp\n",
    "\n",
    "class IntegralExp(Scene):\n",
    "    def construct(self):\n",
    "        # Cria os eixos com cor cinza, comprimento 10 e altura 6, sem setas nas pontas e com coordenadas\n",
    "        eixos = Axes(\n",
    "            x_range=[-1.5, 4, 0.5],\n",
    "            y_range=[0, 35, 5],\n",
    "            axis_config={\"color\": GREY_B},\n",
    "            x_length=10,\n",
    "            y_length=6,\n",
    "            tips=False\n",
    "        ).add_coordinates()\n",
    "\n",
    "        rotulos = eixos.get_axis_labels(\"x\", \"y\")\n",
    "\n",
    "        self.play(Create(eixos), Write(rotulos))\n",
    "\n",
    "        # Função f(x) = e^x\n",
    "        f = lambda x: np.exp(x)\n",
    "        grafico = eixos.plot(f, x_range=[-1.5, 3.2], color=YELLOW)\n",
    "        grafico_label = MathTex(\"y = e^x\").to_corner(UL)\n",
    "\n",
    "        self.play(Create(grafico), Write(grafico_label))\n",
    "\n",
    "        # Controlador para t\n",
    "        t_tracker = ValueTracker(0)\n",
    "\n",
    "        # Área sob a curva até t\n",
    "        area = always_redraw(\n",
    "            lambda: eixos.get_area(\n",
    "                grafico,\n",
    "                x_range=[0, t_tracker.get_value()],\n",
    "                color=BLUE,\n",
    "                opacity=0.5,\n",
    "            )\n",
    "        )\n",
    "\n",
    "        integral_rotulo = always_redraw(\n",
    "            lambda: MathTex(\n",
    "                r\"\\int_0^{%.1f} e^x \\, dx = e^{%.1f} - 1 = %.1f\"\n",
    "                % (t_tracker.get_value(), t_tracker.get_value(), np.exp(t_tracker.get_value()) - 1)\n",
    "            )\n",
    "            .scale(0.8)\n",
    "            .to_corner(UR)\n",
    "        )\n",
    "\n",
    "        self.play(FadeIn(area), Write(integral_rotulo))\n",
    "\n",
    "        # Anima t variando de 0 até 3\n",
    "        self.play(t_tracker.animate.set_value(3), run_time=6, rate_func=linear)\n",
    "\n",
    "        self.wait(2)\n"
   ]
  },
  {
   "cell_type": "code",
   "execution_count": 3,
   "id": "0574c52e-5335-45da-a9bf-92a3bc256b7e",
   "metadata": {},
   "outputs": [
    {
     "data": {
      "text/html": [
       "<pre style=\"white-space:pre;overflow-x:auto;line-height:normal;font-family:Menlo,'DejaVu Sans Mono',consolas,'Courier New',monospace\">Manim Community <span style=\"color: #008000; text-decoration-color: #008000\">v0.19.0</span>\n",
       "\n",
       "</pre>\n"
      ],
      "text/plain": [
       "Manim Community \u001b[32mv0.\u001b[0m\u001b[32m19.0\u001b[0m\n",
       "\n"
      ]
     },
     "metadata": {},
     "output_type": "display_data"
    },
    {
     "name": "stderr",
     "output_type": "stream",
     "text": [
      "                                                                                                                        "
     ]
    },
    {
     "data": {
      "text/html": [
       "<video src=\"media/jupyter/Transformacoes@2025-10-07@01-24-01.mp4\" controls autoplay loop style=\"max-width: 75%;\"  >\n",
       "      Your browser does not support the <code>video</code> element.\n",
       "    </video>"
      ],
      "text/plain": [
       "<IPython.core.display.Video object>"
      ]
     },
     "metadata": {},
     "output_type": "display_data"
    }
   ],
   "source": [
    "%%manim -qm Transformacoes\n",
    "\n",
    "class Transformacoes(LinearTransformationScene):\n",
    "    def __init__(self, **kwargs):\n",
    "        LinearTransformationScene.__init__(\n",
    "            self,\n",
    "            show_basis_vectors=False,\n",
    "            **kwargs\n",
    "        )\n",
    "        \n",
    "    def construct(self):\n",
    "        titulo1 = Tex(\"Isso é um plano\", font_size=72).to_corner(UL)\n",
    "        titulo2 = Tex(r\"Isso foi uma transformação linear \\\\ aplicada no plano\").to_corner(UL)\n",
    "        titulo3 = Tex(r\"Isso foi uma transformação não linear \\\\ aplicada no plano\").to_corner(UL)\n",
    "\n",
    "        self.play(Write(titulo1))\n",
    "        self.wait()\n",
    "\n",
    "        matriz = np.array(([np.cos(PI/4), -np.sin(PI/4)], [np.sin(PI/4), np.cos(PI/4)]))\n",
    "        self.apply_matrix(matriz, run_time=3)\n",
    "        self.wait()\n",
    "        \n",
    "        self.play(Transform(titulo1, titulo2))\n",
    "        self.wait()\n",
    "        \n",
    "        self.apply_nonlinear_transformation(\n",
    "            lambda p: p + np.array(\n",
    "                [\n",
    "                    np.sin(p[1]),\n",
    "                    np.sin(p[0]),\n",
    "                    0,\n",
    "                ]\n",
    "            ),\n",
    "            run_time=3,\n",
    "        ),\n",
    "        self.wait()\n",
    "            \n",
    "        self.play(Transform(titulo1, titulo3))\n",
    "        self.wait()"
   ]
  },
  {
   "cell_type": "code",
   "execution_count": 8,
   "id": "0a858ed3-c0e4-4fbd-a435-89e73687fa5b",
   "metadata": {},
   "outputs": [
    {
     "data": {
      "text/html": [
       "<pre style=\"white-space:pre;overflow-x:auto;line-height:normal;font-family:Menlo,'DejaVu Sans Mono',consolas,'Courier New',monospace\">Manim Community <span style=\"color: #008000; text-decoration-color: #008000\">v0.19.0</span>\n",
       "\n",
       "</pre>\n"
      ],
      "text/plain": [
       "Manim Community \u001b[32mv0.\u001b[0m\u001b[32m19.0\u001b[0m\n",
       "\n"
      ]
     },
     "metadata": {},
     "output_type": "display_data"
    },
    {
     "name": "stderr",
     "output_type": "stream",
     "text": [
      "                                                                                              "
     ]
    },
    {
     "data": {
      "text/html": [
       "<video src=\"media/jupyter/ExponencialComplexa@2025-10-07@02-12-39.mp4\" controls autoplay loop style=\"max-width: 75%;\"  >\n",
       "      Your browser does not support the <code>video</code> element.\n",
       "    </video>"
      ],
      "text/plain": [
       "<IPython.core.display.Video object>"
      ]
     },
     "metadata": {},
     "output_type": "display_data"
    }
   ],
   "source": [
    "%%manim -qm ExponencialComplexa\n",
    "\n",
    "class ExponencialComplexa(Scene):\n",
    "    def construct(self):\n",
    "        # Variável t (com mostrador no canto)\n",
    "        t_var = ValueTracker(0)\n",
    "        label = always_redraw(lambda: MathTex(\n",
    "            f\"t = {t_var.get_value()/PI:.2f} \\\\cdot \\\\pi\"\n",
    "        ).to_corner(UL))\n",
    "\n",
    "        # Ponto em e^{it}\n",
    "        ponto = always_redraw(lambda:\n",
    "            Dot(point=[\n",
    "                np.cos(t_var.get_value()),\n",
    "                np.sin(t_var.get_value()),\n",
    "                0\n",
    "            ], radius=0.05, color=YELLOW)\n",
    "        )\n",
    "\n",
    "        # Calcula o vetor derivada i * e^{it} (posicionada no ponto e^{it})\n",
    "        deriv_vec = always_redraw(lambda:\n",
    "            Arrow(\n",
    "                start=[\n",
    "                    np.cos(t_var.get_value()),\n",
    "                    np.sin(t_var.get_value()),\n",
    "                    0\n",
    "                ],\n",
    "                end=[\n",
    "                    np.cos(t_var.get_value()) - np.sin(t_var.get_value()),\n",
    "                    np.sin(t_var.get_value()) + np.cos(t_var.get_value()),\n",
    "                    0\n",
    "                ],\n",
    "                buff=1,\n",
    "                color=RED\n",
    "            )\n",
    "        )\n",
    "\n",
    "        # Faz o ponto deixar rastro ao se mover\n",
    "        trilha = TracedPath(ponto.get_center, stroke_color=YELLOW, stroke_width=2)\n",
    "\n",
    "        legenda = MathTex(\n",
    "            r\"\"\"e^{it} &= \\cos t + i \\sin t \\\\\n",
    "        \\frac{\\mathrm{d}}{\\mathrm{d}t} e^{it} &= ie^{it}\"\"\"\n",
    "            ).to_edge(DOWN)\n",
    "\n",
    "        self.add(label, ponto, deriv_vec, legenda, trilha)\n",
    "        self.play(t_var.animate.set_value(2 * PI), run_time=6, rate_func=linear)\n",
    "        self.wait(2)"
   ]
  },
  {
   "cell_type": "code",
   "execution_count": null,
   "id": "19c73efe-984e-4aaa-90e9-4ec27df88709",
   "metadata": {},
   "outputs": [],
   "source": []
  }
 ],
 "metadata": {
  "kernelspec": {
   "display_name": "Python 3 (ipykernel)",
   "language": "python",
   "name": "python3"
  },
  "language_info": {
   "codemirror_mode": {
    "name": "ipython",
    "version": 3
   },
   "file_extension": ".py",
   "mimetype": "text/x-python",
   "name": "python",
   "nbconvert_exporter": "python",
   "pygments_lexer": "ipython3",
   "version": "3.11.11"
  }
 },
 "nbformat": 4,
 "nbformat_minor": 5
}
