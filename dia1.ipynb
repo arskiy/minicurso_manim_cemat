{
 "cells": [
  {
   "cell_type": "code",
   "execution_count": 2,
   "metadata": {
    "colab": {
     "base_uri": "https://localhost:8080/",
     "height": 395
    },
    "id": "tjEy1t4TzHkS",
    "outputId": "09b1c831-ab38-4ca4-fa2f-5b3332a00750"
   },
   "outputs": [
    {
     "name": "stderr",
     "output_type": "stream",
     "text": [
      "/usr/local/lib/python3.11/site-packages/pydub/utils.py:170: RuntimeWarning: Couldn't find ffmpeg or avconv - defaulting to ffmpeg, but may not work\n",
      "  warn(\"Couldn't find ffmpeg or avconv - defaulting to ffmpeg, but may not work\", RuntimeWarning)\n"
     ]
    }
   ],
   "source": [
    "from manim import *\n",
    "\n",
    "config.media_width = \"75%\"\n",
    "config.verbosity = \"WARNING\"\n",
    "\n",
    "# Importante! É necessário rodar essa célula primeiro para que o resto do binder funcione.\n",
    "\n",
    "# Recursos:\n",
    "# https://docs.manim.community/en/stable/examples.html\n",
    "# https://try.manim.community/"
   ]
  },
  {
   "cell_type": "code",
   "execution_count": 12,
   "metadata": {
    "collapsed": true,
    "jupyter": {
     "outputs_hidden": true
    }
   },
   "outputs": [
    {
     "name": "stdout",
     "output_type": "stream",
     "text": [
      "Usage: manim [OPTIONS] COMMAND [ARGS]...\n",
      "\n",
      "  Animation engine for explanatory math videos.\n",
      "\n",
      "Options:\n",
      "  --version                      Show version and exit.\n",
      "  --show-splash / --hide-splash  Print splash message with version information.\n",
      "  --help                         Show this message and exit.\n",
      "\n",
      "Commands:\n",
      "  cfg          Manages Manim configuration files.\n",
      "  checkhealth  This subcommand checks whether Manim is installed correctly...\n",
      "  init         Create a new project or insert a new scene.\n",
      "  plugins      Manages Manim plugins.\n",
      "  render       Render SCENE(S) from the input FILE.\n",
      "\n",
      "See 'manim <command>' to read about a specific subcommand.\n",
      "\n",
      "Note: the subcommand 'manim render' is called if no other subcommand is\n",
      "specified. Run 'manim render --help' if you would like to know what the '-ql' or\n",
      "'-p' flags do, for example.\n",
      "\n",
      "Made with <3 by Manim Community developers.\n"
     ]
    }
   ],
   "source": [
    "%manim --help"
   ]
  },
  {
   "cell_type": "code",
   "execution_count": 10,
   "metadata": {
    "colab": {
     "base_uri": "https://localhost:8080/",
     "height": 723
    },
    "collapsed": true,
    "id": "opL0pr7F2t7J",
    "jupyter": {
     "outputs_hidden": true
    },
    "outputId": "b5963b60-d61a-4daa-dd50-a341db05033e"
   },
   "outputs": [
    {
     "data": {
      "text/html": [
       "<pre style=\"white-space:pre;overflow-x:auto;line-height:normal;font-family:Menlo,'DejaVu Sans Mono',consolas,'Courier New',monospace\">Manim Community <span style=\"color: #008000; text-decoration-color: #008000\">v0.19.0</span>\n",
       "\n",
       "</pre>\n"
      ],
      "text/plain": [
       "Manim Community \u001b[32mv0.\u001b[0m\u001b[32m19.0\u001b[0m\n",
       "\n"
      ]
     },
     "metadata": {},
     "output_type": "display_data"
    },
    {
     "name": "stderr",
     "output_type": "stream",
     "text": [
      "                                                                                "
     ]
    },
    {
     "data": {
      "text/html": [
       "<video src=\"media/jupyter/PrimeiraCena@2025-10-03@01-03-27.mp4\" controls autoplay loop style=\"max-width: 75%;\"  >\n",
       "      Your browser does not support the <code>video</code> element.\n",
       "    </video>"
      ],
      "text/plain": [
       "<IPython.core.display.Video object>"
      ]
     },
     "metadata": {},
     "output_type": "display_data"
    }
   ],
   "source": [
    "%%manim -qm PrimeiraCena\n",
    "# Renderizamos nosso vídeo com qualidade média (-qm) (1280x720 30FPS)\n",
    "# e indicando o nome da cena que queremos renderizar\n",
    "\n",
    "class PrimeiraCena(Scene):\n",
    "    def construct(self):\n",
    "        circle = Circle()\n",
    "        square = Square()\n",
    "        square.flip(RIGHT)\n",
    "        square.rotate(PI / 4)\n",
    "        circle.set_fill(PINK, opacity=0.5)\n",
    "\n",
    "        self.play(Create(square))\n",
    "        self.play(Transform(square, circle))\n",
    "        self.play(FadeOut(square))"
   ]
  },
  {
   "cell_type": "code",
   "execution_count": 3,
   "metadata": {
    "colab": {
     "base_uri": "https://localhost:8080/",
     "height": 723
    },
    "id": "kRcJkEZT5SlW",
    "outputId": "2f8637db-499a-42d4-89cb-4d6bcd12ffbf"
   },
   "outputs": [
    {
     "data": {
      "text/html": [
       "<pre style=\"white-space:pre;overflow-x:auto;line-height:normal;font-family:Menlo,'DejaVu Sans Mono',consolas,'Courier New',monospace\">Manim Community <span style=\"color: #008000; text-decoration-color: #008000\">v0.19.0</span>\n",
       "\n",
       "</pre>\n"
      ],
      "text/plain": [
       "Manim Community \u001b[32mv0.\u001b[0m\u001b[32m19.0\u001b[0m\n",
       "\n"
      ]
     },
     "metadata": {},
     "output_type": "display_data"
    },
    {
     "name": "stderr",
     "output_type": "stream",
     "text": [
      "                                                                                                                                                    "
     ]
    },
    {
     "ename": "KeyboardInterrupt",
     "evalue": "",
     "output_type": "error",
     "traceback": [
      "\u001b[0;31m---------------------------------------------------------------------------\u001b[0m",
      "\u001b[0;31mKeyboardInterrupt\u001b[0m                         Traceback (most recent call last)",
      "Cell \u001b[0;32mIn[3], line 1\u001b[0m\n\u001b[0;32m----> 1\u001b[0m \u001b[43mget_ipython\u001b[49m\u001b[43m(\u001b[49m\u001b[43m)\u001b[49m\u001b[38;5;241;43m.\u001b[39;49m\u001b[43mrun_cell_magic\u001b[49m\u001b[43m(\u001b[49m\u001b[38;5;124;43m'\u001b[39;49m\u001b[38;5;124;43mmanim\u001b[39;49m\u001b[38;5;124;43m'\u001b[39;49m\u001b[43m,\u001b[49m\u001b[43m \u001b[49m\u001b[38;5;124;43m'\u001b[39;49m\u001b[38;5;124;43m-qm DerivadaProduto\u001b[39;49m\u001b[38;5;124;43m'\u001b[39;49m\u001b[43m,\u001b[49m\u001b[43m \u001b[49m\u001b[38;5;124;43m'\u001b[39;49m\u001b[38;5;130;43;01m\\n\u001b[39;49;00m\u001b[38;5;124;43mclass DerivadaProduto(Scene):\u001b[39;49m\u001b[38;5;130;43;01m\\n\u001b[39;49;00m\u001b[38;5;124;43m    def construct(self):\u001b[39;49m\u001b[38;5;130;43;01m\\n\u001b[39;49;00m\u001b[38;5;124;43m        texto_topo = Text(\u001b[39;49m\u001b[38;5;124;43m\"\u001b[39;49m\u001b[38;5;124;43mRegra de Leibniz\u001b[39;49m\u001b[38;5;124;43m\"\u001b[39;49m\u001b[38;5;124;43m).to_corner(UP)\u001b[39;49m\u001b[38;5;130;43;01m\\n\u001b[39;49;00m\u001b[38;5;124;43m        self.play(Write(texto_topo))\u001b[39;49m\u001b[38;5;130;43;01m\\n\u001b[39;49;00m\u001b[38;5;130;43;01m\\n\u001b[39;49;00m\u001b[38;5;124;43m        texto=MathTex(\u001b[39;49m\u001b[38;5;130;43;01m\\n\u001b[39;49;00m\u001b[38;5;124;43m            r\u001b[39;49m\u001b[38;5;124;43m\"\u001b[39;49m\u001b[38;5;130;43;01m\\\\\u001b[39;49;00m\u001b[38;5;124;43mfrac\u001b[39;49m\u001b[38;5;132;43;01m{d}\u001b[39;49;00m\u001b[38;5;132;43;01m{dx}\u001b[39;49;00m\u001b[38;5;124;43mf(x)g(x)=\u001b[39;49m\u001b[38;5;124;43m\"\u001b[39;49m\u001b[38;5;124;43m,r\u001b[39;49m\u001b[38;5;124;43m\"\u001b[39;49m\u001b[38;5;124;43mf(x)\u001b[39;49m\u001b[38;5;130;43;01m\\\\\u001b[39;49;00m\u001b[38;5;124;43mfrac\u001b[39;49m\u001b[38;5;132;43;01m{d}\u001b[39;49;00m\u001b[38;5;132;43;01m{dx}\u001b[39;49;00m\u001b[38;5;124;43mg(x)\u001b[39;49m\u001b[38;5;124;43m\"\u001b[39;49m\u001b[38;5;124;43m,r\u001b[39;49m\u001b[38;5;124;43m\"\u001b[39;49m\u001b[38;5;124;43m+\u001b[39;49m\u001b[38;5;124;43m\"\u001b[39;49m\u001b[38;5;124;43m,\u001b[39;49m\u001b[38;5;130;43;01m\\n\u001b[39;49;00m\u001b[38;5;124;43m            r\u001b[39;49m\u001b[38;5;124;43m\"\u001b[39;49m\u001b[38;5;124;43mg(x)\u001b[39;49m\u001b[38;5;130;43;01m\\\\\u001b[39;49;00m\u001b[38;5;124;43mfrac\u001b[39;49m\u001b[38;5;132;43;01m{d}\u001b[39;49;00m\u001b[38;5;132;43;01m{dx}\u001b[39;49;00m\u001b[38;5;124;43mf(x)\u001b[39;49m\u001b[38;5;124;43m\"\u001b[39;49m\u001b[38;5;130;43;01m\\n\u001b[39;49;00m\u001b[38;5;124;43m        )\u001b[39;49m\u001b[38;5;130;43;01m\\n\u001b[39;49;00m\u001b[38;5;130;43;01m\\n\u001b[39;49;00m\u001b[38;5;124;43m        texto[1].color = ORANGE\u001b[39;49m\u001b[38;5;130;43;01m\\n\u001b[39;49;00m\u001b[38;5;124;43m        texto[3].color = MAROON\u001b[39;49m\u001b[38;5;130;43;01m\\n\u001b[39;49;00m\u001b[38;5;130;43;01m\\n\u001b[39;49;00m\u001b[38;5;124;43m        # Anima a \u001b[39;49m\u001b[38;5;124;43m\"\u001b[39;49m\u001b[38;5;124;43mescrita\u001b[39;49m\u001b[38;5;124;43m\"\u001b[39;49m\u001b[38;5;124;43m do texto\u001b[39;49m\u001b[38;5;130;43;01m\\n\u001b[39;49;00m\u001b[38;5;124;43m        self.play(Write(texto, run_time=2.0, rate_func=smooth))\u001b[39;49m\u001b[38;5;130;43;01m\\n\u001b[39;49;00m\u001b[38;5;130;43;01m\\n\u001b[39;49;00m\u001b[38;5;124;43m        # Cria dois retângulos ao redor de f(x)g\u001b[39;49m\u001b[38;5;130;43;01m\\'\u001b[39;49;00m\u001b[38;5;124;43m(x) e de f\u001b[39;49m\u001b[38;5;130;43;01m\\'\u001b[39;49;00m\u001b[38;5;124;43m(x)g(x)\u001b[39;49m\u001b[38;5;130;43;01m\\n\u001b[39;49;00m\u001b[38;5;124;43m        retangulo1 = SurroundingRectangle(texto[1], buff = .2)\u001b[39;49m\u001b[38;5;130;43;01m\\n\u001b[39;49;00m\u001b[38;5;124;43m        retangulo2 = SurroundingRectangle(texto[3], buff = .2)\u001b[39;49m\u001b[38;5;130;43;01m\\n\u001b[39;49;00m\u001b[38;5;124;43m        # Desenha o primeiro retângulo\u001b[39;49m\u001b[38;5;130;43;01m\\n\u001b[39;49;00m\u001b[38;5;124;43m        self.play(\u001b[39;49m\u001b[38;5;130;43;01m\\n\u001b[39;49;00m\u001b[38;5;124;43m            Create(retangulo1),\u001b[39;49m\u001b[38;5;130;43;01m\\n\u001b[39;49;00m\u001b[38;5;124;43m        )\u001b[39;49m\u001b[38;5;130;43;01m\\n\u001b[39;49;00m\u001b[38;5;124;43m        # Cria um efeito de onda em f(x)g\u001b[39;49m\u001b[38;5;130;43;01m\\'\u001b[39;49;00m\u001b[38;5;124;43m(x)\u001b[39;49m\u001b[38;5;130;43;01m\\n\u001b[39;49;00m\u001b[38;5;124;43m        self.play(ApplyWave(texto[1]))\u001b[39;49m\u001b[38;5;130;43;01m\\n\u001b[39;49;00m\u001b[38;5;124;43m        # Espera por 1 segundo\u001b[39;49m\u001b[38;5;130;43;01m\\n\u001b[39;49;00m\u001b[38;5;124;43m        self.wait(1.0)\u001b[39;49m\u001b[38;5;130;43;01m\\n\u001b[39;49;00m\u001b[38;5;130;43;01m\\n\u001b[39;49;00m\u001b[38;5;124;43m        # Anima a transformação do primeiro retângulo no segundo\u001b[39;49m\u001b[38;5;130;43;01m\\n\u001b[39;49;00m\u001b[38;5;124;43m        self.play(\u001b[39;49m\u001b[38;5;130;43;01m\\n\u001b[39;49;00m\u001b[38;5;124;43m            ReplacementTransform(retangulo1,retangulo2),\u001b[39;49m\u001b[38;5;130;43;01m\\n\u001b[39;49;00m\u001b[38;5;124;43m        )\u001b[39;49m\u001b[38;5;130;43;01m\\n\u001b[39;49;00m\u001b[38;5;124;43m        self.play(ApplyWave(texto[3]))\u001b[39;49m\u001b[38;5;130;43;01m\\n\u001b[39;49;00m\u001b[38;5;124;43m        self.wait(1.0)\u001b[39;49m\u001b[38;5;130;43;01m\\n\u001b[39;49;00m\u001b[38;5;130;43;01m\\n\u001b[39;49;00m\u001b[38;5;124;43m        # Salva as propriedades do texto (posição, cor, rotação, escala, tamanho da fonte, etc.)\u001b[39;49m\u001b[38;5;130;43;01m\\n\u001b[39;49;00m\u001b[38;5;124;43m        texto.save_state()\u001b[39;49m\u001b[38;5;130;43;01m\\n\u001b[39;49;00m\u001b[38;5;124;43m        # Desfaz o retângulo desenhado\u001b[39;49m\u001b[38;5;130;43;01m\\n\u001b[39;49;00m\u001b[38;5;124;43m        self.play(Uncreate(retangulo2))\u001b[39;49m\u001b[38;5;130;43;01m\\n\u001b[39;49;00m\u001b[38;5;124;43m        # Rotaciona o texto\u001b[39;49m\u001b[38;5;130;43;01m\\n\u001b[39;49;00m\u001b[38;5;124;43m        self.play(Rotate(texto, 2 * PI, run_time=2.0))\u001b[39;49m\u001b[38;5;130;43;01m\\n\u001b[39;49;00m\u001b[38;5;124;43m        # Escalona o texto\u001b[39;49m\u001b[38;5;130;43;01m\\n\u001b[39;49;00m\u001b[38;5;124;43m        self.play(ScaleInPlace(texto, 2))\u001b[39;49m\u001b[38;5;130;43;01m\\n\u001b[39;49;00m\u001b[38;5;124;43m        # Restaura para o ponto salvo\u001b[39;49m\u001b[38;5;130;43;01m\\n\u001b[39;49;00m\u001b[38;5;124;43m        self.play(Restore(texto))\u001b[39;49m\u001b[38;5;130;43;01m\\n\u001b[39;49;00m\u001b[38;5;130;43;01m\\n\u001b[39;49;00m\u001b[38;5;124;43m        self.wait()\u001b[39;49m\u001b[38;5;130;43;01m\\n\u001b[39;49;00m\u001b[38;5;124;43m'\u001b[39;49m\u001b[43m)\u001b[49m\n",
      "File \u001b[0;32m/usr/local/lib/python3.11/site-packages/IPython/core/interactiveshell.py:2541\u001b[0m, in \u001b[0;36mInteractiveShell.run_cell_magic\u001b[0;34m(self, magic_name, line, cell)\u001b[0m\n\u001b[1;32m   2539\u001b[0m \u001b[38;5;28;01mwith\u001b[39;00m \u001b[38;5;28mself\u001b[39m\u001b[38;5;241m.\u001b[39mbuiltin_trap:\n\u001b[1;32m   2540\u001b[0m     args \u001b[38;5;241m=\u001b[39m (magic_arg_s, cell)\n\u001b[0;32m-> 2541\u001b[0m     result \u001b[38;5;241m=\u001b[39m \u001b[43mfn\u001b[49m\u001b[43m(\u001b[49m\u001b[38;5;241;43m*\u001b[39;49m\u001b[43margs\u001b[49m\u001b[43m,\u001b[49m\u001b[43m \u001b[49m\u001b[38;5;241;43m*\u001b[39;49m\u001b[38;5;241;43m*\u001b[39;49m\u001b[43mkwargs\u001b[49m\u001b[43m)\u001b[49m\n\u001b[1;32m   2543\u001b[0m \u001b[38;5;66;03m# The code below prevents the output from being displayed\u001b[39;00m\n\u001b[1;32m   2544\u001b[0m \u001b[38;5;66;03m# when using magics with decorator @output_can_be_silenced\u001b[39;00m\n\u001b[1;32m   2545\u001b[0m \u001b[38;5;66;03m# when the last Python token in the expression is a ';'.\u001b[39;00m\n\u001b[1;32m   2546\u001b[0m \u001b[38;5;28;01mif\u001b[39;00m \u001b[38;5;28mgetattr\u001b[39m(fn, magic\u001b[38;5;241m.\u001b[39mMAGIC_OUTPUT_CAN_BE_SILENCED, \u001b[38;5;28;01mFalse\u001b[39;00m):\n",
      "File \u001b[0;32m/usr/local/lib/python3.11/site-packages/manim/utils/ipython_magic.py:143\u001b[0m, in \u001b[0;36mManimMagic.manim\u001b[0;34m(self, line, cell, local_ns)\u001b[0m\n\u001b[1;32m    141\u001b[0m     SceneClass \u001b[38;5;241m=\u001b[39m local_ns[config[\u001b[38;5;124m\"\u001b[39m\u001b[38;5;124mscene_names\u001b[39m\u001b[38;5;124m\"\u001b[39m][\u001b[38;5;241m0\u001b[39m]]\n\u001b[1;32m    142\u001b[0m     scene \u001b[38;5;241m=\u001b[39m SceneClass(renderer\u001b[38;5;241m=\u001b[39mrenderer)\n\u001b[0;32m--> 143\u001b[0m     \u001b[43mscene\u001b[49m\u001b[38;5;241;43m.\u001b[39;49m\u001b[43mrender\u001b[49m\u001b[43m(\u001b[49m\u001b[43m)\u001b[49m\n\u001b[1;32m    144\u001b[0m \u001b[38;5;28;01mfinally\u001b[39;00m:\n\u001b[1;32m    145\u001b[0m     \u001b[38;5;66;03m# Shader cache becomes invalid as the context is destroyed\u001b[39;00m\n\u001b[1;32m    146\u001b[0m     shader_program_cache\u001b[38;5;241m.\u001b[39mclear()\n",
      "File \u001b[0;32m/usr/local/lib/python3.11/site-packages/manim/scene/scene.py:237\u001b[0m, in \u001b[0;36mScene.render\u001b[0;34m(self, preview)\u001b[0m\n\u001b[1;32m    235\u001b[0m \u001b[38;5;28mself\u001b[39m\u001b[38;5;241m.\u001b[39msetup()\n\u001b[1;32m    236\u001b[0m \u001b[38;5;28;01mtry\u001b[39;00m:\n\u001b[0;32m--> 237\u001b[0m     \u001b[38;5;28;43mself\u001b[39;49m\u001b[38;5;241;43m.\u001b[39;49m\u001b[43mconstruct\u001b[49m\u001b[43m(\u001b[49m\u001b[43m)\u001b[49m\n\u001b[1;32m    238\u001b[0m \u001b[38;5;28;01mexcept\u001b[39;00m EndSceneEarlyException:\n\u001b[1;32m    239\u001b[0m     \u001b[38;5;28;01mpass\u001b[39;00m\n",
      "File \u001b[0;32m<string>:16\u001b[0m, in \u001b[0;36mconstruct\u001b[0;34m(self)\u001b[0m\n",
      "File \u001b[0;32m/usr/local/lib/python3.11/site-packages/manim/scene/scene.py:1125\u001b[0m, in \u001b[0;36mScene.play\u001b[0;34m(self, subcaption, subcaption_duration, subcaption_offset, *args, **kwargs)\u001b[0m\n\u001b[1;32m   1122\u001b[0m     \u001b[38;5;28;01mreturn\u001b[39;00m\n\u001b[1;32m   1124\u001b[0m start_time \u001b[38;5;241m=\u001b[39m \u001b[38;5;28mself\u001b[39m\u001b[38;5;241m.\u001b[39mtime\n\u001b[0;32m-> 1125\u001b[0m \u001b[38;5;28;43mself\u001b[39;49m\u001b[38;5;241;43m.\u001b[39;49m\u001b[43mrenderer\u001b[49m\u001b[38;5;241;43m.\u001b[39;49m\u001b[43mplay\u001b[49m\u001b[43m(\u001b[49m\u001b[38;5;28;43mself\u001b[39;49m\u001b[43m,\u001b[49m\u001b[43m \u001b[49m\u001b[38;5;241;43m*\u001b[39;49m\u001b[43margs\u001b[49m\u001b[43m,\u001b[49m\u001b[43m \u001b[49m\u001b[38;5;241;43m*\u001b[39;49m\u001b[38;5;241;43m*\u001b[39;49m\u001b[43mkwargs\u001b[49m\u001b[43m)\u001b[49m\n\u001b[1;32m   1126\u001b[0m run_time \u001b[38;5;241m=\u001b[39m \u001b[38;5;28mself\u001b[39m\u001b[38;5;241m.\u001b[39mtime \u001b[38;5;241m-\u001b[39m start_time\n\u001b[1;32m   1127\u001b[0m \u001b[38;5;28;01mif\u001b[39;00m subcaption:\n",
      "File \u001b[0;32m/usr/local/lib/python3.11/site-packages/manim/renderer/cairo_renderer.py:116\u001b[0m, in \u001b[0;36mCairoRenderer.play\u001b[0;34m(self, scene, *args, **kwargs)\u001b[0m\n\u001b[1;32m    114\u001b[0m \u001b[38;5;28;01melse\u001b[39;00m:\n\u001b[1;32m    115\u001b[0m     scene\u001b[38;5;241m.\u001b[39mplay_internal()\n\u001b[0;32m--> 116\u001b[0m \u001b[38;5;28;43mself\u001b[39;49m\u001b[38;5;241;43m.\u001b[39;49m\u001b[43mfile_writer\u001b[49m\u001b[38;5;241;43m.\u001b[39;49m\u001b[43mend_animation\u001b[49m\u001b[43m(\u001b[49m\u001b[38;5;129;43;01mnot\u001b[39;49;00m\u001b[43m \u001b[49m\u001b[38;5;28;43mself\u001b[39;49m\u001b[38;5;241;43m.\u001b[39;49m\u001b[43mskip_animations\u001b[49m\u001b[43m)\u001b[49m\n\u001b[1;32m    118\u001b[0m \u001b[38;5;28mself\u001b[39m\u001b[38;5;241m.\u001b[39mnum_plays \u001b[38;5;241m+\u001b[39m\u001b[38;5;241m=\u001b[39m \u001b[38;5;241m1\u001b[39m\n",
      "File \u001b[0;32m/usr/local/lib/python3.11/site-packages/manim/scene/scene_file_writer.py:413\u001b[0m, in \u001b[0;36mSceneFileWriter.end_animation\u001b[0;34m(self, allow_write)\u001b[0m\n\u001b[1;32m    403\u001b[0m \u001b[38;5;250m\u001b[39m\u001b[38;5;124;03m\"\"\"\u001b[39;00m\n\u001b[1;32m    404\u001b[0m \u001b[38;5;124;03mInternally used by Manim to stop streaming to\u001b[39;00m\n\u001b[1;32m    405\u001b[0m \u001b[38;5;124;03mFFMPEG gracefully.\u001b[39;00m\n\u001b[0;32m   (...)\u001b[0m\n\u001b[1;32m    410\u001b[0m \u001b[38;5;124;03m    Whether or not to write to a video file.\u001b[39;00m\n\u001b[1;32m    411\u001b[0m \u001b[38;5;124;03m\"\"\"\u001b[39;00m\n\u001b[1;32m    412\u001b[0m \u001b[38;5;28;01mif\u001b[39;00m write_to_movie() \u001b[38;5;129;01mand\u001b[39;00m allow_write:\n\u001b[0;32m--> 413\u001b[0m     \u001b[38;5;28;43mself\u001b[39;49m\u001b[38;5;241;43m.\u001b[39;49m\u001b[43mclose_partial_movie_stream\u001b[49m\u001b[43m(\u001b[49m\u001b[43m)\u001b[49m\n",
      "File \u001b[0;32m/usr/local/lib/python3.11/site-packages/manim/scene/scene_file_writer.py:583\u001b[0m, in \u001b[0;36mSceneFileWriter.close_partial_movie_stream\u001b[0;34m(self)\u001b[0m\n\u001b[1;32m    580\u001b[0m \u001b[38;5;28mself\u001b[39m\u001b[38;5;241m.\u001b[39mqueue\u001b[38;5;241m.\u001b[39mput((\u001b[38;5;241m-\u001b[39m\u001b[38;5;241m1\u001b[39m, \u001b[38;5;28;01mNone\u001b[39;00m))\n\u001b[1;32m    581\u001b[0m \u001b[38;5;28mself\u001b[39m\u001b[38;5;241m.\u001b[39mwriter_thread\u001b[38;5;241m.\u001b[39mjoin()\n\u001b[0;32m--> 583\u001b[0m \u001b[38;5;28;01mfor\u001b[39;00m packet \u001b[38;5;129;01min\u001b[39;00m \u001b[38;5;28;43mself\u001b[39;49m\u001b[38;5;241;43m.\u001b[39;49m\u001b[43mvideo_stream\u001b[49m\u001b[38;5;241;43m.\u001b[39;49m\u001b[43mencode\u001b[49m\u001b[43m(\u001b[49m\u001b[43m)\u001b[49m:\n\u001b[1;32m    584\u001b[0m     \u001b[38;5;28mself\u001b[39m\u001b[38;5;241m.\u001b[39mvideo_container\u001b[38;5;241m.\u001b[39mmux(packet)\n\u001b[1;32m    586\u001b[0m \u001b[38;5;28mself\u001b[39m\u001b[38;5;241m.\u001b[39mvideo_container\u001b[38;5;241m.\u001b[39mclose()\n",
      "\u001b[0;31mKeyboardInterrupt\u001b[0m: "
     ]
    }
   ],
   "source": [
    "%%manim -qm DerivadaProduto\n",
    "\n",
    "class DerivadaProduto(Scene):\n",
    "    def construct(self):\n",
    "        texto_topo = Text(\"Regra de Leibniz\").to_corner(UP)\n",
    "        self.play(Write(texto_topo))\n",
    "\n",
    "        texto=MathTex(\n",
    "            r\"\\frac{d}{dx}f(x)g(x)=\",r\"f(x)\\frac{d}{dx}g(x)\",r\"+\",\n",
    "            r\"g(x)\\frac{d}{dx}f(x)\"\n",
    "        )\n",
    "\n",
    "        texto[1].color = ORANGE\n",
    "        texto[3].color = MAROON\n",
    "\n",
    "        # Anima a \"escrita\" do texto\n",
    "        self.play(Write(texto, run_time=2.0, rate_func=smooth))\n",
    "\n",
    "        # Cria dois retângulos ao redor de f(x)g'(x) e de f'(x)g(x)\n",
    "        retangulo1 = SurroundingRectangle(texto[1], buff = .2)\n",
    "        retangulo2 = SurroundingRectangle(texto[3], buff = .2)\n",
    "        # Desenha o primeiro retângulo\n",
    "        self.play(\n",
    "            Create(retangulo1),\n",
    "        )\n",
    "        # Cria um efeito de onda em f(x)g'(x)\n",
    "        self.play(ApplyWave(texto[1]))\n",
    "        # Espera por 1 segundo\n",
    "        self.wait(1.0)\n",
    "\n",
    "        # Anima a transformação do primeiro retângulo no segundo\n",
    "        self.play(\n",
    "            ReplacementTransform(retangulo1,retangulo2),\n",
    "        )\n",
    "        self.play(ApplyWave(texto[3]))\n",
    "        self.wait(1.0)\n",
    "\n",
    "        # Salva as propriedades do texto (posição, cor, rotação, escala, tamanho da fonte, etc.)\n",
    "        texto.save_state()\n",
    "        # Desfaz o retângulo desenhado\n",
    "        self.play(Uncreate(retangulo2))\n",
    "        # Rotaciona o texto\n",
    "        self.play(Rotate(texto, 2 * PI, run_time=2.0))\n",
    "        # Escalona o texto\n",
    "        self.play(ScaleInPlace(texto, 2))\n",
    "        # Restaura para o ponto salvo\n",
    "        self.play(Restore(texto))\n",
    "\n",
    "        self.wait()"
   ]
  },
  {
   "cell_type": "code",
   "execution_count": 55,
   "metadata": {},
   "outputs": [
    {
     "data": {
      "text/html": [
       "<pre style=\"white-space:pre;overflow-x:auto;line-height:normal;font-family:Menlo,'DejaVu Sans Mono',consolas,'Courier New',monospace\">Manim Community <span style=\"color: #008000; text-decoration-color: #008000\">v0.19.0</span>\n",
       "\n",
       "</pre>\n"
      ],
      "text/plain": [
       "Manim Community \u001b[32mv0.\u001b[0m\u001b[32m19.0\u001b[0m\n",
       "\n"
      ]
     },
     "metadata": {},
     "output_type": "display_data"
    },
    {
     "name": "stderr",
     "output_type": "stream",
     "text": [
      "                                                                                                                                                      "
     ]
    },
    {
     "data": {
      "text/html": [
       "<video src=\"media/jupyter/FormulaQuadratica@2025-10-08@01-43-32.mp4\" controls autoplay loop style=\"max-width: 75%;\"  >\n",
       "      Your browser does not support the <code>video</code> element.\n",
       "    </video>"
      ],
      "text/plain": [
       "<IPython.core.display.Video object>"
      ]
     },
     "metadata": {},
     "output_type": "display_data"
    }
   ],
   "source": [
    "%%manim -qm FormulaQuadratica\n",
    "\n",
    "class FormulaQuadratica(Scene):\n",
    "    def construct(self):\n",
    "        # Cada passo da equação que será derivada. Cada {{string}} é uma substring que poderá ser movida pelo algoritmo do Manim\n",
    "        steps = [\n",
    "            MathTex(r\"a{{x^2}} {{+}} b{{x}} + c {{=}} 0\"),\n",
    "            MathTex(r\"{{x^2}} {{+}} { {{b}} \\over {{a}} } {{x}} + { {{c}} \\over {{a}} } {{=}} 0\"),\n",
    "            MathTex(r\"{{x^2}} {{+}} { {{b}}\\over {{a}} }{{x}} {{=}} -{ {{c}} \\over {{a}} }\"),\n",
    "            MathTex(r\"{{x^2}} {{+}} { {{b}} \\over {{a}} }{{x}} {{+}} \\left( { {{b}} \\over {{2}}{{a}} } \\right)^2 {{=}} -{ {{c}} \\over {{a}} } {{+}} \\left( { {{b}} \\over {{2}}{{a}} } \\right)^{{2}}\"),\n",
    "            MathTex(r\"\\left({{x}} {{+}} { {{b}} \\over {{2}}{{a}} }\\right)^{{2}} {{=}} -{ {{c}} \\over {{a}} } {{+}} { {{b^2}} \\over {{4a^2}} }\"),\n",
    "            MathTex(r\"\\left({{x}} {{+}} { {{b}} \\over {{2}}{{a}} }\\right)^{{2}} {{=}} { {{b^2}} - {{4}}{{a}}{{c}} \\over {{4{{a}}^2}} }\"),\n",
    "            MathTex(r\"{{x}} {{+}} { {{b}} \\over {{2}}{{a}} } {{=}} {{\\pm}} { {{ \\sqrt{ {{b^2}} - {{4}}{{a}}{{c}} } }} \\over 2{{a}} }\"),\n",
    "            MathTex(r\"{{x}} {{=}} -{ {{b}} \\over {{2}}{{a}} } {{\\pm}} { {{ \\sqrt{ {{b^2}} - {{4}}{{a}}{{c}} } }} \\over 2{{a}} }\"),\n",
    "            MathTex(r\"{{x}} {{=}} { -{{b}} {{\\pm}} {{ \\sqrt{ {{b^2}} - {{4}}{{a}}{{c}} } }} \\over 2{{a}} }\"),\n",
    "        ]\n",
    "\n",
    "        # Title() fica fixo no topo do vídeo e com uma barra horizontal embaixo\n",
    "        title = Title(\"Derivação algébrica da fórmula quadrática\")\n",
    "        self.play(FadeIn(title))\n",
    "\n",
    "        self.play(Write(steps[0]))\n",
    "        self.wait(0.8)\n",
    "\n",
    "        # Anima as transformações correspondentes. Usamos TransformMatchingTex para\n",
    "        # manter os símbolos idênticos no lugar quando possível.\n",
    "        for i in range(len(steps) - 1):\n",
    "            old = steps[i]\n",
    "            new = steps[i + 1]\n",
    "\n",
    "            # TransformMatchingTex vai casar pedaços de LaTeX iguais (nem sempre \n",
    "            self.play(TransformMatchingTex(old, new, run_time=1.2))\n",
    "            self.wait(0.8)\n",
    "\n",
    "        # Depois de todos os passos, destaque a fórmula final\n",
    "        final = steps[-1]\n",
    "\n",
    "        # generate_target() cria uma cópia do objeto que pode ser manipulada \n",
    "        # a fim de eventualmente o objeto se transformar no alvo usando MoveToTarget()\n",
    "        final.generate_target()\n",
    "        final.target.scale(1.4)\n",
    "\n",
    "        # Faça um retângulo ao redor da fórmula final: com espaço de 0.5 e arredondamento nos cantos de 0.2\n",
    "        box = SurroundingRectangle(final.target, buff=0.5, corner_radius=0.2)\n",
    "\n",
    "        self.play(MoveToTarget(final), Create(box), run_time=1.0)\n",
    "        self.wait(1.0)"
   ]
  },
  {
   "cell_type": "code",
   "execution_count": 2,
   "metadata": {
    "colab": {
     "base_uri": "https://localhost:8080/"
    },
    "id": "TNqUivz279Qd",
    "outputId": "505b70c7-7c6b-4483-ebbd-a8f21ed7b72f"
   },
   "outputs": [
    {
     "name": "stderr",
     "output_type": "stream",
     "text": [
      "UsageError: Cell magic `%%manim` not found.\n"
     ]
    }
   ],
   "source": [
    "%%manim -qm PlotSeno\n",
    "\n",
    "class PlotSeno(Scene):\n",
    "  def construct(self):\n",
    "    # Alteramos a cor de fundo da cena para um cinza escuro\n",
    "    self.camera.background_color = DARKER_GRAY\n",
    "\n",
    "    # Construção dos eixos: queremos um eixo x para -10 < x < 10, um eixo y para -1.5 < y < 1.5,\n",
    "    # O tamanho do eixo x será de 10 unidades; a tela possui dimensão de 14.2 x 8 unidades.\n",
    "    # Usaremos o tamanho padrão do eixo y, 6 unidades (e portanto ele não é especificado).\n",
    "    # Os eixos terão cor verde, e em sua numeração aparecerão os números pares de -10 a 10,\n",
    "    # juntamente com barrinhas maiores nessses números\n",
    "    eixos = Axes(\n",
    "        x_range=[-10, 10, 1],\n",
    "        y_range=[-1.5, 1.5, 1],\n",
    "        x_length=10,\n",
    "        axis_config={\"color\": GREEN},\n",
    "        x_axis_config={\n",
    "            \"numbers_to_include\": np.arange(-10, 10.01, 2),\n",
    "            \"numbers_with_elongated_ticks\": np.arange(-10, 10.01, 2),\n",
    "        },\n",
    "        tips=False,\n",
    "    )\n",
    "    rotulos_xy = eixos.get_axis_labels()\n",
    "\n",
    "    # Instanciamos uma variável que será usada na definição da função, e que aparecerá na tela sendo atualizada\n",
    "    var = Variable(var=0.0, label=\"t\", num_decimal_places=1)\n",
    "\n",
    "    # Instanciamos o gráfico\n",
    "    grafico = eixos.plot(lambda x: 0, color=BLUE)\n",
    "\n",
    "    # Dizemos para o manim atualizar o grafico y = sin(tx) sempre que a variável var for alterada\n",
    "    grafico.add_updater(lambda v: v.become(\n",
    "        eixos.plot(lambda x: np.sin(var.tracker.get_value() * x), color=BLUE)\n",
    "    ))\n",
    "\n",
    "    # Criamos uma descrição da função sendo plotada e que ela deve ficar logo abaixo da variável t\n",
    "    rotulo_sen = MathTex(r\"y = \\sin(tx)\", color=BLUE).next_to(var, DOWN)\n",
    "\n",
    "    # Agrupamos os eixos com o gráfico da função e a descrição da função com a variável\n",
    "    plot = VGroup(eixos, grafico)\n",
    "    labels = VGroup(rotulo_sen, var)\n",
    "\n",
    "    # Posicionamos os rótulos no canto superior esquerdo (UP e LEFT são vetores [0, 1] e [-1, 0])\n",
    "    labels.to_corner(UP + LEFT)\n",
    "\n",
    "    # Colocamos na tela tudo que criamos\n",
    "    self.add(plot, labels, rotulos_xy)\n",
    "    # Animamos a variável t assumindo o valor 3\n",
    "    self.play(var.tracker.animate.set_value(3), run_time=4)\n",
    "    self.wait(1.0)\n",
    "\n",
    "    # Animamos a variável t assumindo o valor 0\n",
    "    self.play(var.tracker.animate.set_value(0), run_time=4, rate_func=smooth)\n",
    "    self.wait(1.0)"
   ]
  },
  {
   "cell_type": "code",
   "execution_count": null,
   "metadata": {},
   "outputs": [],
   "source": []
  }
 ],
 "metadata": {
  "colab": {
   "provenance": []
  },
  "kernelspec": {
   "display_name": "Python 3 (ipykernel)",
   "language": "python",
   "name": "python3"
  },
  "language_info": {
   "codemirror_mode": {
    "name": "ipython",
    "version": 3
   },
   "file_extension": ".py",
   "mimetype": "text/x-python",
   "name": "python",
   "nbconvert_exporter": "python",
   "pygments_lexer": "ipython3",
   "version": "3.11.11"
  }
 },
 "nbformat": 4,
 "nbformat_minor": 4
}
