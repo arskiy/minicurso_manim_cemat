{
 "cells": [
  {
   "cell_type": "code",
   "execution_count": 2,
   "id": "159aee12-fe92-4fae-bc5d-794d659c3493",
   "metadata": {},
   "outputs": [
    {
     "name": "stderr",
     "output_type": "stream",
     "text": [
      "/usr/local/lib/python3.11/site-packages/pydub/utils.py:170: RuntimeWarning: Couldn't find ffmpeg or avconv - defaulting to ffmpeg, but may not work\n",
      "  warn(\"Couldn't find ffmpeg or avconv - defaulting to ffmpeg, but may not work\", RuntimeWarning)\n"
     ]
    }
   ],
   "source": [
    "from manim import *\n",
    "import numpy as np\n",
    "\n",
    "config.media_width = \"75%\"\n",
    "config.verbosity = \"WARNING\""
   ]
  },
  {
   "cell_type": "code",
   "execution_count": 5,
   "id": "a34c1dfd-c196-457a-8459-10d48712f7ac",
   "metadata": {},
   "outputs": [
    {
     "data": {
      "text/html": [
       "<pre style=\"white-space:pre;overflow-x:auto;line-height:normal;font-family:Menlo,'DejaVu Sans Mono',consolas,'Courier New',monospace\">Manim Community <span style=\"color: #008000; text-decoration-color: #008000\">v0.19.0</span>\n",
       "\n",
       "</pre>\n"
      ],
      "text/plain": [
       "Manim Community \u001b[32mv0.\u001b[0m\u001b[32m19.0\u001b[0m\n",
       "\n"
      ]
     },
     "metadata": {},
     "output_type": "display_data"
    },
    {
     "name": "stderr",
     "output_type": "stream",
     "text": [
      "                                                          "
     ]
    },
    {
     "data": {
      "text/html": [
       "<video src=\"media/jupyter/PlotNormal@2025-10-10@00-32-39.mp4\" controls autoplay loop style=\"max-width: 75%;\"  >\n",
       "      Your browser does not support the <code>video</code> element.\n",
       "    </video>"
      ],
      "text/plain": [
       "<IPython.core.display.Video object>"
      ]
     },
     "metadata": {},
     "output_type": "display_data"
    }
   ],
   "source": [
    "%%manim -ql PlotNormal\n",
    "\n",
    "class PlotNormal(ThreeDScene):\n",
    "    def construct(self):\n",
    "        resolucao = 24\n",
    "        self.set_camera_orientation(phi=75 * DEGREES, theta=-30 * DEGREES)\n",
    "\n",
    "        # Função da normal bivariada (f : R^2 \\to R)\n",
    "        def normal(u, v):\n",
    "            w = np.exp(-(u ** 2 + v ** 2))\n",
    "            return np.array([u, v, w])\n",
    "\n",
    "        # Cria a superfície com a resolução de interpolação dada\n",
    "        normal_sup = Surface(\n",
    "            normal,\n",
    "            resolution=(resolucao, resolucao),\n",
    "            v_range=[-2, +2],\n",
    "            u_range=[-2, +2]\n",
    "        )\n",
    "\n",
    "        # Roda a câmera\n",
    "        self.begin_ambient_camera_rotation(rate=0.4)\n",
    "\n",
    "        normal_sup.scale(2, about_point=ORIGIN)\n",
    "        normal_sup.set_style(fill_opacity=1, stroke_color=GREEN)\n",
    "        eixos = ThreeDAxes()\n",
    "        self.add(eixos, normal_sup)\n",
    "        self.wait(2)"
   ]
  },
  {
   "cell_type": "code",
   "execution_count": 9,
   "id": "f1b78bbf-8ef2-4eda-8d3a-ca413c98dfd2",
   "metadata": {},
   "outputs": [
    {
     "data": {
      "text/html": [
       "<pre style=\"white-space:pre;overflow-x:auto;line-height:normal;font-family:Menlo,'DejaVu Sans Mono',consolas,'Courier New',monospace\">Manim Community <span style=\"color: #008000; text-decoration-color: #008000\">v0.19.0</span>\n",
       "\n",
       "</pre>\n"
      ],
      "text/plain": [
       "Manim Community \u001b[32mv0.\u001b[0m\u001b[32m19.0\u001b[0m\n",
       "\n"
      ]
     },
     "metadata": {},
     "output_type": "display_data"
    },
    {
     "name": "stderr",
     "output_type": "stream",
     "text": [
      "                                                                                                                      "
     ]
    },
    {
     "data": {
      "text/html": [
       "<video src=\"media/jupyter/OtimizacaoRestricao@2025-10-08@02-23-58.mp4\" controls autoplay loop style=\"max-width: 75%;\"  >\n",
       "      Your browser does not support the <code>video</code> element.\n",
       "    </video>"
      ],
      "text/plain": [
       "<IPython.core.display.Video object>"
      ]
     },
     "metadata": {},
     "output_type": "display_data"
    }
   ],
   "source": [
    "%%manim -ql OtimizacaoRestricao\n",
    "\n",
    "class OtimizacaoRestricao(ThreeDScene):\n",
    "    def construct(self):\n",
    "        # Configuração inicial da câmera\n",
    "        self.set_camera_orientation(phi=75 * DEGREES, theta=-60 * DEGREES)\n",
    "\n",
    "        # Eixos 3D\n",
    "        eixos = ThreeDAxes(\n",
    "            x_range=[-2.5, 2.5], y_range=[-3.5, 3.5], z_range=[0, 15],\n",
    "            x_length=6, y_length=6, z_length=3\n",
    "        )\n",
    "        self.play(Create(eixos), run_time=2)\n",
    "\n",
    "        # Função f(x, y) = x^2 + y^2\n",
    "        def f(x, y):\n",
    "            return x**2 + y**2\n",
    "\n",
    "        # Superfície f(x,y) sobre o domínio elíptico\n",
    "        superficie = Surface(\n",
    "            lambda u, v: eixos.coords_to_point(\n",
    "                2 * np.cos(u) * np.cos(v),\n",
    "                3 * np.sin(u) * np.cos(v),\n",
    "                f(2 * np.cos(u) * np.cos(v), 3 * np.sin(u) * np.cos(v))\n",
    "            ),\n",
    "            u_range=[0, TAU],\n",
    "            v_range=[0, 0.5],\n",
    "            resolution=(30, 15),\n",
    "            fill_opacity=0.6,\n",
    "            checkerboard_colors=[BLUE_E, BLUE_D],\n",
    "        )\n",
    "        self.play(Create(superficie), run_time=3)\n",
    "\n",
    "        # Domínio elíptico (projeção no plano xy)\n",
    "        elipse = ParametricFunction(\n",
    "            lambda t: eixos.coords_to_point(2 * np.cos(t), 3 * np.sin(t), 0),\n",
    "            t_range=[0, TAU],\n",
    "            color=GREEN,\n",
    "            stroke_width=4\n",
    "        )\n",
    "        self.play(Create(elipse), run_time=2)\n",
    "        self.wait(1)\n",
    "\n",
    "        # Parametrização do bordo da elipse\n",
    "        def gamma(t):\n",
    "            return np.array([2 * np.cos(t), 3 * np.sin(t)])\n",
    "\n",
    "        # Imagem da borda no gráfico\n",
    "        borda_imagem = ParametricFunction(\n",
    "            lambda t: eixos.coords_to_point(*gamma(t), f(*gamma(t))),\n",
    "            t_range=[0, TAU],\n",
    "            color=RED,\n",
    "            stroke_width=4\n",
    "        )\n",
    "        self.play(Create(borda_imagem), run_time=3)\n",
    "        self.wait(2)\n",
    "\n",
    "        # Apagar elementos 3D\n",
    "        self.play(\n",
    "            FadeOut(superficie),\n",
    "            FadeOut(elipse),\n",
    "            FadeOut(borda_imagem),\n",
    "            FadeOut(eixos),\n",
    "            run_time=2\n",
    "        )\n",
    "\n",
    "        # Reconfigurar a câmera para visualização do gráfico 2D\n",
    "        self.set_camera_orientation(phi=0 * DEGREES, theta=-90* DEGREES)\n",
    "\n",
    "        # Eixos 2D\n",
    "        eixos2d = Axes(\n",
    "            x_range=[0, TAU],\n",
    "            y_range=[0, 15],\n",
    "            x_length=6,\n",
    "            y_length=4,\n",
    "            axis_config={\"include_tip\": True},\n",
    "        ).to_edge(DOWN)\n",
    "\n",
    "        xlabel = eixos2d.get_x_axis_label(MathTex(\"t\"), edge=RIGHT, direction=RIGHT)\n",
    "        ylabel = eixos2d.get_y_axis_label(MathTex(r\"(f \\circ \\alpha)(t)\"), edge=UP, direction=UP)\n",
    "\n",
    "        self.play(Create(eixos2d), FadeIn(xlabel), FadeIn(ylabel), run_time=2)\n",
    "\n",
    "        titulo = Title(r\"Gráfico da função composta $(f \\circ \\alpha)(t)$\")\n",
    "        self.play(Write(titulo), run_time=2)\n",
    "        self.wait(1)\n",
    "\n",
    "        # Função composta f(γ(t)) = 4cos²(t) + 9sin²(t)\n",
    "        def f_composicao(t):\n",
    "            x, y = gamma(t)\n",
    "            return f(x, y)\n",
    "\n",
    "        curva_composta = ParametricFunction(\n",
    "            lambda t: eixos2d.coords_to_point(t, f_composicao(t)),\n",
    "            t_range=[0, TAU],\n",
    "            color=YELLOW,\n",
    "            stroke_width=3\n",
    "        )\n",
    "        self.play(Create(curva_composta), run_time=3)\n",
    "        self.wait(4)"
   ]
  },
  {
   "cell_type": "code",
   "execution_count": 4,
   "id": "5bfe3fb3-275f-47fc-80de-1edad1cb3fe8",
   "metadata": {},
   "outputs": [
    {
     "data": {
      "text/html": [
       "<pre style=\"white-space:pre;overflow-x:auto;line-height:normal;font-family:Menlo,'DejaVu Sans Mono',consolas,'Courier New',monospace\">Manim Community <span style=\"color: #008000; text-decoration-color: #008000\">v0.19.0</span>\n",
       "\n",
       "</pre>\n"
      ],
      "text/plain": [
       "Manim Community \u001b[32mv0.\u001b[0m\u001b[32m19.0\u001b[0m\n",
       "\n"
      ]
     },
     "metadata": {},
     "output_type": "display_data"
    },
    {
     "name": "stderr",
     "output_type": "stream",
     "text": [
      "                                                                                                                                                                                                                                                                                                                                      "
     ]
    },
    {
     "data": {
      "text/html": [
       "<video src=\"media/jupyter/Lorenz@2025-10-04@19-04-17.mp4\" controls autoplay loop style=\"max-width: 75%;\"  >\n",
       "      Your browser does not support the <code>video</code> element.\n",
       "    </video>"
      ],
      "text/plain": [
       "<IPython.core.display.Video object>"
      ]
     },
     "metadata": {},
     "output_type": "display_data"
    }
   ],
   "source": [
    "%%manim -ql Lorenz\n",
    "\n",
    "class Lorenz(ThreeDScene):\n",
    "    def construct(self):\n",
    "        self.camera.background_color = DARKER_GRAY\n",
    "        \n",
    "        cond_iniciais = [np.array([-1.0, 1.0, 0.0]), \n",
    "                         np.array([-0.7, 1.0, 0.0]), \n",
    "                         np.array([-1.0, 0.7, 0.0])]\n",
    "        escala = 0.1\n",
    "\n",
    "        # A quantidade de segundos que se passa entre cada integração\n",
    "        epsilon = 0.01\n",
    "\n",
    "        # Cores de cada PVI\n",
    "        cores = [RED_B, ORANGE, TEAL]\n",
    "        curvas = VGroup()\n",
    "\n",
    "        # Para cada combinação de valor inicial e cor, crie uma curva\n",
    "        for pos_ini, cor in zip(cond_iniciais, cores):\n",
    "            f = self.trajetoria(pos_ini, dt=epsilon)\n",
    "            curva = ParametricFunction(\n",
    "                lambda t: f(t),\n",
    "                color=cor,\n",
    "                t_range=np.array([0, 30, epsilon]),  # Tempo de simulação é de 0 a 30 segundos, com cálculos a cada epsilon segundos e interpolados entre si\n",
    "                use_vectorized=False\n",
    "            )\n",
    "            curva.scale(escala)\n",
    "\n",
    "            # Centraliza todas as curvas\n",
    "            curva.move_to(ORIGIN)\n",
    "            curvas.add(curva)\n",
    "\n",
    "        self.set_camera_orientation(phi=80 * DEGREES, theta=45 * DEGREES)\n",
    "        self.begin_ambient_camera_rotation(rate=0.1)\n",
    "\n",
    "        # Equações do sistema de Lorenz. O manim irá, por baixo do tapete, compilar separadamente\n",
    "        # as letras x, y, z para colori-las separadamente (e por isso o uso do \\over ao invés de \\frac)\n",
    "        equacoes = MathTex(\n",
    "            r\"\"\"\n",
    "            {\\mathrm{d} x} \\over {\\mathrm{d} t} &= \\sigma(y - x) \\\\\n",
    "            {\\mathrm{d} y} \\over {\\mathrm{d} t} &= x(\\rho - z) - y \\\\\n",
    "            {\\mathrm{d} z} \\over {\\mathrm{d} t} &= xy - \\beta z\n",
    "            \"\"\",\n",
    "            substrings_to_isolate=[\"x\", \"y\", \"z\"]\n",
    "        ).scale(0.6)\n",
    "        equacoes.set_color_by_tex('x', RED)\n",
    "        equacoes.set_color_by_tex('y', GREEN)\n",
    "        equacoes.set_color_by_tex('z', BLUE)\n",
    "\n",
    "        # Mostre as equações no canto superior esquerdo\n",
    "        equacoes.to_edge(UL)\n",
    "\n",
    "        # Defina que as equações não devem se mover junto com a câmera\n",
    "        self.add_fixed_in_frame_mobjects(equacoes)\n",
    "        self.play(Write(equacoes), run_time=1.5)\n",
    "\n",
    "        # Crie todas as curvas na lista simultaneamente\n",
    "        self.play(*[Create(c) for c in curvas], run_time=20, rate_func=linear)\n",
    "\n",
    "    # Retorna as equações diferenciais do atrator de Lorenz.\n",
    "    def lorenz_system(self, pos, sigma=10, rho=28, beta=8 / 3):\n",
    "        x, y, z = pos\n",
    "        dx_dt = sigma * (y - x)\n",
    "        dy_dt = x * (rho - z) - y\n",
    "        dz_dt = x * y - beta * z\n",
    "        return np.array([dx_dt, dy_dt, dz_dt])\n",
    "\n",
    "    # Um passo do método de Runge-Kutta de 4ª ordem\n",
    "    def rk4_step(self, pos, dt):\n",
    "        k1 = self.lorenz_system(pos)\n",
    "        k2 = self.lorenz_system(pos + dt * k1 / 2)\n",
    "        k3 = self.lorenz_system(pos + dt * k2 / 2)\n",
    "        k4 = self.lorenz_system(pos + dt * k3)\n",
    "        return pos + dt * (k1 + 2 * k2 + 2 * k3 + k4) / 6\n",
    "\n",
    "    # Retorna uma função f(t) que dá a posição no tempo t\n",
    "    # a partir de integração numérica, evitando reintegrar se esse cálculo já foi feito antes\n",
    "    def trajetoria(self, start_pos, dt=0.01):\n",
    "        cache = {0: np.array(start_pos)}\n",
    "        def f(t):\n",
    "            # arredonda t para múltiplos de dt\n",
    "            steps = int(np.round(t / dt))\n",
    "            if steps in cache:\n",
    "                return cache[steps]\n",
    "            # integra até o passo desejado\n",
    "            pos = cache[max(cache.keys())]\n",
    "            for i in range(max(cache.keys()) + 1, steps + 1):\n",
    "                pos = self.rk4_step(pos, dt)\n",
    "                cache[i] = pos\n",
    "            return cache[steps]\n",
    "        return f"
   ]
  }
 ],
 "metadata": {
  "kernelspec": {
   "display_name": "Python 3 (ipykernel)",
   "language": "python",
   "name": "python3"
  },
  "language_info": {
   "codemirror_mode": {
    "name": "ipython",
    "version": 3
   },
   "file_extension": ".py",
   "mimetype": "text/x-python",
   "name": "python",
   "nbconvert_exporter": "python",
   "pygments_lexer": "ipython3",
   "version": "3.11.11"
  }
 },
 "nbformat": 4,
 "nbformat_minor": 5
}
