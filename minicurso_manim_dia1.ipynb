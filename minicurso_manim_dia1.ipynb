{
 "cells": [
  {
   "cell_type": "code",
   "execution_count": 1,
   "metadata": {
    "colab": {
     "base_uri": "https://localhost:8080/",
     "height": 395
    },
    "id": "tjEy1t4TzHkS",
    "outputId": "09b1c831-ab38-4ca4-fa2f-5b3332a00750"
   },
   "outputs": [
    {
     "name": "stderr",
     "output_type": "stream",
     "text": [
      "/usr/local/lib/python3.11/site-packages/pydub/utils.py:170: RuntimeWarning: Couldn't find ffmpeg or avconv - defaulting to ffmpeg, but may not work\n",
      "  warn(\"Couldn't find ffmpeg or avconv - defaulting to ffmpeg, but may not work\", RuntimeWarning)\n"
     ]
    }
   ],
   "source": [
    "from manim import *\n",
    "\n",
    "config.media_width = \"75%\"\n",
    "config.verbosity = \"WARNING\"\n",
    "\n",
    "# Recursos:\n",
    "# https://docs.manim.community/en/stable/examples.html\n",
    "# https://colab.research.google.com/github/vitorcoluci/teoria-erros-manim/blob/main/Manual_Manim_Github.ipynb"
   ]
  },
  {
   "cell_type": "code",
   "execution_count": 9,
   "metadata": {},
   "outputs": [
    {
     "name": "stdout",
     "output_type": "stream",
     "text": [
      "Usage: manim [OPTIONS] COMMAND [ARGS]...\n",
      "\n",
      "  Animation engine for explanatory math videos.\n",
      "\n",
      "Options:\n",
      "  --version                      Show version and exit.\n",
      "  --show-splash / --hide-splash  Print splash message with version information.\n",
      "  --help                         Show this message and exit.\n",
      "\n",
      "Commands:\n",
      "  cfg          Manages Manim configuration files.\n",
      "  checkhealth  This subcommand checks whether Manim is installed correctly...\n",
      "  init         Create a new project or insert a new scene.\n",
      "  plugins      Manages Manim plugins.\n",
      "  render       Render SCENE(S) from the input FILE.\n",
      "\n",
      "See 'manim <command>' to read about a specific subcommand.\n",
      "\n",
      "Note: the subcommand 'manim render' is called if no other subcommand is\n",
      "specified. Run 'manim render --help' if you would like to know what the '-ql' or\n",
      "'-p' flags do, for example.\n",
      "\n",
      "Made with <3 by Manim Community developers.\n"
     ]
    }
   ],
   "source": [
    "%manim --help"
   ]
  },
  {
   "cell_type": "code",
   "execution_count": 8,
   "metadata": {
    "colab": {
     "base_uri": "https://localhost:8080/",
     "height": 723
    },
    "id": "opL0pr7F2t7J",
    "outputId": "b5963b60-d61a-4daa-dd50-a341db05033e"
   },
   "outputs": [
    {
     "name": "stderr",
     "output_type": "stream",
     "text": [
      "UsageError: Line magic function `%%manim` not found.\n"
     ]
    }
   ],
   "source": [
    "# Renderizamos nosso vídeo com qualidade média (-qm) (1280x720 30FPS)\n",
    "# e indicando o nome da cena que queremos renderizar\n",
    "%%manim -qm PrimeiraCena\n",
    "\n",
    "class PrimeiraCena(Scene):\n",
    "    def construct(self):\n",
    "        circle = Circle()\n",
    "        square = Square()\n",
    "        square.flip(RIGHT)\n",
    "        square.rotate(PI / 4)\n",
    "        circle.set_fill(PINK, opacity=0.5)\n",
    "\n",
    "        self.play(Create(square))\n",
    "        self.play(Transform(square, circle))\n",
    "        self.play(FadeOut(square))"
   ]
  },
  {
   "cell_type": "code",
   "execution_count": 9,
   "metadata": {
    "colab": {
     "base_uri": "https://localhost:8080/",
     "height": 723
    },
    "id": "kRcJkEZT5SlW",
    "outputId": "2f8637db-499a-42d4-89cb-4d6bcd12ffbf"
   },
   "outputs": [
    {
     "data": {
      "text/html": [
       "<pre style=\"white-space:pre;overflow-x:auto;line-height:normal;font-family:Menlo,'DejaVu Sans Mono',consolas,'Courier New',monospace\">Manim Community <span style=\"color: #008000; text-decoration-color: #008000\">v0.19.0</span>\n",
       "\n",
       "</pre>\n"
      ],
      "text/plain": [
       "Manim Community \u001b[32mv0.\u001b[0m\u001b[32m19.0\u001b[0m\n",
       "\n"
      ]
     },
     "metadata": {},
     "output_type": "display_data"
    },
    {
     "name": "stderr",
     "output_type": "stream",
     "text": [
      "                                                                                                                                                     "
     ]
    },
    {
     "data": {
      "text/html": [
       "<video src=\"media/jupyter/DerivadaProduto@2025-10-03@00-49-17.mp4\" controls autoplay loop style=\"max-width: 75%;\"  >\n",
       "      Your browser does not support the <code>video</code> element.\n",
       "    </video>"
      ],
      "text/plain": [
       "<IPython.core.display.Video object>"
      ]
     },
     "metadata": {},
     "output_type": "display_data"
    }
   ],
   "source": [
    "%%manim -qm DerivadaProduto\n",
    "\n",
    "class DerivadaProduto(Scene):\n",
    "    def construct(self):\n",
    "        texto_topo = Text(\"Regra de Leibniz\").to_corner(UP)\n",
    "        self.play(Write(texto_topo))\n",
    "\n",
    "        texto=MathTex(\n",
    "            r\"\\frac{d}{dx}f(x)g(x)=\",r\"f(x)\\frac{d}{dx}g(x)\",r\"+\",\n",
    "            r\"g(x)\\frac{d}{dx}f(x)\"\n",
    "        )\n",
    "\n",
    "        texto[1].color = ORANGE\n",
    "        texto[3].color = MAROON\n",
    "\n",
    "        # Anima a \"escrita\" do texto\n",
    "        self.play(Write(texto, run_time=2.0, rate_func=smooth))\n",
    "\n",
    "        # Cria dois retângulos ao redor de f(x)g'(x) e de f'(x)g(x)\n",
    "        retangulo1 = SurroundingRectangle(texto[1], buff = .2)\n",
    "        retangulo2 = SurroundingRectangle(texto[3], buff = .2)\n",
    "        # Desenha o primeiro retângulo\n",
    "        self.play(\n",
    "            Create(retangulo1),\n",
    "        )\n",
    "        # Cria um efeito de onda em f(x)g'(x)\n",
    "        self.play(ApplyWave(texto[1]))\n",
    "        # Espera por 1 segundo\n",
    "        self.wait(1.0)\n",
    "\n",
    "        # Anima a transformação do primeiro retângulo no segundo\n",
    "        self.play(\n",
    "            ReplacementTransform(retangulo1,retangulo2),\n",
    "        )\n",
    "        self.play(ApplyWave(texto[3]))\n",
    "        self.wait(1.0)\n",
    "\n",
    "        # Salva as propriedades do texto (posição, cor, rotação, escala, tamanho da fonte, etc.)\n",
    "        texto.save_state()\n",
    "        # Desfaz o retângulo desenhado\n",
    "        self.play(Uncreate(retangulo2))\n",
    "        # Rotaciona o texto\n",
    "        self.play(Rotate(texto, 2 * PI, run_time=2.0))\n",
    "        # Escalona o texto\n",
    "        self.play(ScaleInPlace(texto, 2))\n",
    "        # Restaura para o ponto salvo\n",
    "        self.play(Restore(texto))\n",
    "\n",
    "        self.wait()"
   ]
  },
  {
   "cell_type": "code",
   "execution_count": 41,
   "metadata": {
    "colab": {
     "base_uri": "https://localhost:8080/"
    },
    "id": "TNqUivz279Qd",
    "outputId": "505b70c7-7c6b-4483-ebbd-a8f21ed7b72f"
   },
   "outputs": [
    {
     "data": {
      "text/html": [
       "<pre style=\"white-space:pre;overflow-x:auto;line-height:normal;font-family:Menlo,'DejaVu Sans Mono',consolas,'Courier New',monospace\">Manim Community <span style=\"color: #008000; text-decoration-color: #008000\">v0.19.0</span>\n",
       "\n",
       "</pre>\n"
      ],
      "text/plain": [
       "Manim Community \u001b[32mv0.\u001b[0m\u001b[32m19.0\u001b[0m\n",
       "\n"
      ]
     },
     "metadata": {},
     "output_type": "display_data"
    },
    {
     "name": "stderr",
     "output_type": "stream",
     "text": [
      "                                                                                              "
     ]
    },
    {
     "data": {
      "text/html": [
       "<video src=\"media/jupyter/PlotSeno@2025-10-03@00-42-06.mp4\" controls autoplay loop style=\"max-width: 75%;\"  >\n",
       "      Your browser does not support the <code>video</code> element.\n",
       "    </video>"
      ],
      "text/plain": [
       "<IPython.core.display.Video object>"
      ]
     },
     "metadata": {},
     "output_type": "display_data"
    }
   ],
   "source": [
    "%%manim -qm PlotSeno\n",
    "\n",
    "class PlotSeno(Scene):\n",
    "  def construct(self):\n",
    "    # Alteramos a cor de fundo da cena para um cinza escuro\n",
    "    self.camera.background_color = DARKER_GRAY\n",
    "\n",
    "    # Construção dos eixos: queremos um eixo x para -10 < x < 10, um eixo y para -1.5 < y < 1.5,\n",
    "    # O tamanho do eixo x será de 10 unidades; a tela possui dimensão de 14.2 x 8 unidades.\n",
    "    # Usaremos o tamanho padrão do eixo y, 6 unidades (e portanto ele não é especificado).\n",
    "    # Os eixos terão cor verde, e em sua numeração aparecerão os números pares de -10 a 10,\n",
    "    # juntamente com barrinhas maiores nessses números\n",
    "    eixos = Axes(\n",
    "        x_range=[-10, 10, 1],\n",
    "        y_range=[-1.5, 1.5, 1],\n",
    "        x_length=10,\n",
    "        axis_config={\"color\": GREEN},\n",
    "        x_axis_config={\n",
    "            \"numbers_to_include\": np.arange(-10, 10.01, 2),\n",
    "            \"numbers_with_elongated_ticks\": np.arange(-10, 10.01, 2),\n",
    "        },\n",
    "        tips=False,\n",
    "    )\n",
    "    rotulos_xy = eixos.get_axis_labels()\n",
    "\n",
    "    # Instanciamos uma variável que será usada na definição da função, e que aparecerá na tela sendo atualizada\n",
    "    var = Variable(var=0.0, label=\"t\", num_decimal_places=1)\n",
    "\n",
    "    # Instanciamos o gráfico\n",
    "    grafico = eixos.plot(lambda x: 0, color=BLUE)\n",
    "\n",
    "    # Dizemos para o manim atualizar o grafico y = sin(tx) sempre que a variável var for alterada\n",
    "    grafico.add_updater(lambda v: v.become(\n",
    "        eixos.plot(lambda x: np.sin(var.tracker.get_value() * x), color=BLUE)\n",
    "    ))\n",
    "\n",
    "    # Criamos uma descrição da função sendo plotada e que ela deve ficar logo abaixo da variável t\n",
    "    rotulo_sen = MathTex(r\"y = \\sin(tx)\", color=BLUE).next_to(var, DOWN)\n",
    "\n",
    "    # Agrupamos os eixos com o gráfico da função e a descrição da função com a variável\n",
    "    plot = VGroup(eixos, grafico)\n",
    "    labels = VGroup(rotulo_sen, var)\n",
    "\n",
    "    # Posicionamos os rótulos no canto superior esquerdo (UP e LEFT são vetores [0, 1] e [-1, 0])\n",
    "    labels.to_corner(UP + LEFT)\n",
    "\n",
    "    # Colocamos na tela tudo que criamos\n",
    "    self.add(plot, labels, rotulos_xy)\n",
    "    # Animamos a variável t assumindo o valor 3\n",
    "    self.play(var.tracker.animate.set_value(3), run_time=4)\n",
    "    self.wait(1.0)\n",
    "\n",
    "    # Animamos a variável t assumindo o valor 0\n",
    "    self.play(var.tracker.animate.set_value(0), run_time=4, rate_func=smooth)\n",
    "    self.wait(1.0)"
   ]
  }
 ],
 "metadata": {
  "colab": {
   "provenance": []
  },
  "kernelspec": {
   "display_name": "Python 3 (ipykernel)",
   "language": "python",
   "name": "python3"
  },
  "language_info": {
   "codemirror_mode": {
    "name": "ipython",
    "version": 3
   },
   "file_extension": ".py",
   "mimetype": "text/x-python",
   "name": "python",
   "nbconvert_exporter": "python",
   "pygments_lexer": "ipython3",
   "version": "3.11.11"
  }
 },
 "nbformat": 4,
 "nbformat_minor": 4
}
