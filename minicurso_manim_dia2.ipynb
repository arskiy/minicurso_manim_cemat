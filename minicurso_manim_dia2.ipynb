{
 "cells": [
  {
   "cell_type": "code",
   "execution_count": 1,
   "id": "04caeab1-2baa-4524-83b6-6a62e56b1463",
   "metadata": {},
   "outputs": [
    {
     "name": "stderr",
     "output_type": "stream",
     "text": [
      "/usr/local/lib/python3.11/site-packages/pydub/utils.py:170: RuntimeWarning: Couldn't find ffmpeg or avconv - defaulting to ffmpeg, but may not work\n",
      "  warn(\"Couldn't find ffmpeg or avconv - defaulting to ffmpeg, but may not work\", RuntimeWarning)\n"
     ]
    }
   ],
   "source": [
    "from manim import *\n",
    "\n",
    "config.media_width = \"75%\"\n",
    "config.verbosity = \"WARNING\""
   ]
  },
  {
   "cell_type": "code",
   "execution_count": 19,
   "id": "1e8f4f59-7a33-4d2b-9e18-41ea78c4f676",
   "metadata": {},
   "outputs": [
    {
     "data": {
      "text/html": [
       "<pre style=\"white-space:pre;overflow-x:auto;line-height:normal;font-family:Menlo,'DejaVu Sans Mono',consolas,'Courier New',monospace\">Manim Community <span style=\"color: #008000; text-decoration-color: #008000\">v0.19.0</span>\n",
       "\n",
       "</pre>\n"
      ],
      "text/plain": [
       "Manim Community \u001b[32mv0.\u001b[0m\u001b[32m19.0\u001b[0m\n",
       "\n"
      ]
     },
     "metadata": {},
     "output_type": "display_data"
    },
    {
     "name": "stderr",
     "output_type": "stream",
     "text": [
      "                                                                                               "
     ]
    },
    {
     "data": {
      "text/html": [
       "<video src=\"media/jupyter/CampoPlano@2025-10-03@02-07-20.mp4\" controls autoplay loop style=\"max-width: 75%;\"  >\n",
       "      Your browser does not support the <code>video</code> element.\n",
       "    </video>"
      ],
      "text/plain": [
       "<IPython.core.display.Video object>"
      ]
     },
     "metadata": {},
     "output_type": "display_data"
    }
   ],
   "source": [
    "%%manim -qm IntegralExp\n",
    "\n",
    "class IntegralExp(Scene):\n",
    "    def construct(self):\n",
    "        # Eixos\n",
    "        eixos = Axes(\n",
    "            x_range=[-1.5, 4, 0.5],\n",
    "            y_range=[0, 35, 5],\n",
    "            axis_config={\"color\": GREY_B},\n",
    "            x_length=10,\n",
    "            y_length=6,\n",
    "            tips=False\n",
    "        ).add_coordinates()\n",
    "\n",
    "        rotulos = eixos.get_axis_labels(\"x\", \"y\")\n",
    "\n",
    "        self.play(Create(eixos), Write(rotulos))\n",
    "\n",
    "        # Função f(x) = e^x\n",
    "        f = lambda x: np.exp(x)\n",
    "        graph = eixos.plot(f, x_range=[-1.5, 3.2], color=YELLOW)\n",
    "        graph_label = MathTex(\"y = e^x\").to_corner(UL)\n",
    "\n",
    "        self.play(Create(graph), Write(graph_label))\n",
    "\n",
    "        # Controlador para t\n",
    "        t_tracker = ValueTracker(0)\n",
    "\n",
    "        # Área sob a curva até t\n",
    "        area = always_redraw(\n",
    "            lambda: eixos.get_area(\n",
    "                graph,\n",
    "                x_range=[0, t_tracker.get_value()],\n",
    "                color=BLUE,\n",
    "                opacity=0.5,\n",
    "            )\n",
    "        )\n",
    "\n",
    "        # Texto da integral\n",
    "        integral_label = always_redraw(\n",
    "            lambda: MathTex(\n",
    "                r\"\\int_0^{%.1f} e^x \\, dx = e^{%.1f} - 1 = %.1f\"\n",
    "                % (t_tracker.get_value(), t_tracker.get_value(), np.exp(t_tracker.get_value()) - 1)\n",
    "            )\n",
    "            .scale(0.8)\n",
    "            .to_corner(UR)\n",
    "        )\n",
    "\n",
    "        self.play(FadeIn(area), Write(integral_label))\n",
    "\n",
    "        # Anima t variando de 0 até 3\n",
    "        self.play(t_tracker.animate.set_value(3), run_time=8, rate_func=linear)\n",
    "\n",
    "        self.wait(2)\n"
   ]
  },
  {
   "cell_type": "code",
   "execution_count": 24,
   "id": "0574c52e-5335-45da-a9bf-92a3bc256b7e",
   "metadata": {},
   "outputs": [
    {
     "ename": "SyntaxError",
     "evalue": "invalid syntax. Perhaps you forgot a comma? (<string>, line 31)",
     "output_type": "error",
     "traceback": [
      "Traceback \u001b[0;36m(most recent call last)\u001b[0m:\n",
      "\u001b[0m  File \u001b[1;32m/usr/local/lib/python3.11/site-packages/IPython/core/interactiveshell.py:3577\u001b[0m in \u001b[1;35mrun_code\u001b[0m\n    exec(code_obj, self.user_global_ns, self.user_ns)\u001b[0m\n",
      "\u001b[0m  Cell \u001b[1;32mIn[24], line 1\u001b[0m\n    get_ipython().run_cell_magic('manim', '-qm Transformacoes', '\\nclass Transformacoes(LinearTransformationScene):\\n    def __init__(self, **kwargs):\\n        LinearTransformationScene.__init__(\\n            self,\\n            show_coordinates=True,\\n            leave_ghost_vectors=True,\\n            **kwargs\\n        )\\n        \\n    def construct(self):\\n        grid_title = Tex(\"This is a grid\", font_size=72)\\n        grid_title.to_edge(UP)\\n\\n        self.add(grid, grid_title)  # Make sure title is on top of grid\\n        self.play(\\n            FadeIn(grid_title, shift=UP),\\n            #Create(grid, run_time=3, lag_ratio=0.1),\\n        )\\n        self.wait()\\n\\n        grid_transform_title = Tex(\\n            r\"That was a non-linear function \\\\\\\\ applied to the grid\"\\n        )\\n        grid_transform_title.move_to(grid_title)\\n\\n        matriz = np.array(([np.cos(PI/4).item(), -np.sin(PI/4).item()], [np.sin(PI/4).item(), np.cos(PI/4).item()]))\\n        self.apply_matrix(matriz, run_time=3)\\n        \\n        self.animate.apply_function(\\n            lambda p: p + np.array(\\n                [\\n                    np.sin(p[1]),\\n                    np.sin(p[0]),\\n                    0,\\n                ]\\n            )\\n            run_time=3,\\n        ),\\n        self.wait()\\n            \\n        self.play(Transform(grid_title, grid_transform_title))\\n        self.wait()\\n')\u001b[0m\n",
      "\u001b[0m  File \u001b[1;32m/usr/local/lib/python3.11/site-packages/IPython/core/interactiveshell.py:2541\u001b[0m in \u001b[1;35mrun_cell_magic\u001b[0m\n    result = fn(*args, **kwargs)\u001b[0m\n",
      "\u001b[0;36m  File \u001b[0;32m/usr/local/lib/python3.11/site-packages/manim/utils/ipython_magic.py:121\u001b[0;36m in \u001b[0;35mmanim\u001b[0;36m\n\u001b[0;31m    exec(cell, local_ns)\u001b[0;36m\n",
      "\u001b[0;36m  File \u001b[0;32m<string>:31\u001b[0;36m\u001b[0m\n\u001b[0;31m    lambda p: p + np.array(\u001b[0m\n\u001b[0m              ^\u001b[0m\n\u001b[0;31mSyntaxError\u001b[0m\u001b[0;31m:\u001b[0m invalid syntax. Perhaps you forgot a comma?\n"
     ]
    }
   ],
   "source": [
    "%%manim -qm Transformacoes\n",
    "\n",
    "class Transformacoes(LinearTransformationScene):\n",
    "    def __init__(self, **kwargs):\n",
    "        LinearTransformationScene.__init__(\n",
    "            self,\n",
    "            show_basis_vectors=False,\n",
    "            **kwargs\n",
    "        )\n",
    "        \n",
    "    def construct(self):\n",
    "        titulo1 = Tex(\"Isso é um plano\", font_size=72).to_corner(UL)\n",
    "        titulo2 = Tex(r\"Isso foi uma transformação linear \\\\ aplicada no plano\").to_corner(UL)\n",
    "        titulo3 = Tex(r\"Isso foi uma transformação não linear \\\\ aplicada no plano\").to_corner(UL)\n",
    "\n",
    "        self.play(Write(titulo1))\n",
    "        self.wait()\n",
    "\n",
    "        matriz = np.array(([np.cos(PI/4), -np.sin(PI/4)], [np.sin(PI/4), np.cos(PI/4)]))\n",
    "        self.apply_matrix(matriz, run_time=3)\n",
    "        self.wait()\n",
    "        \n",
    "        self.play(Transform(titulo1, titulo2))\n",
    "        self.wait()\n",
    "        \n",
    "        self.apply_nonlinear_transformation(\n",
    "            lambda p: p + np.array(\n",
    "                [\n",
    "                    np.sin(p[1]),\n",
    "                    np.sin(p[0]),\n",
    "                    0,\n",
    "                ]\n",
    "            ),\n",
    "            run_time=3,\n",
    "        ),\n",
    "        self.wait()\n",
    "            \n",
    "        self.play(Transform(titulo1, titulo3))\n",
    "        self.wait()"
   ]
  },
  {
   "cell_type": "code",
   "execution_count": null,
   "id": "0a858ed3-c0e4-4fbd-a435-89e73687fa5b",
   "metadata": {},
   "outputs": [],
   "source": [
    "%%manim -qm ExponencialComplexa\n",
    "\n",
    "class ExponencialComplexa(Scene):\n",
    "    def construct(self):\n",
    "        circ = Circle(radius=1)\n",
    "        self.add(circle)\n",
    "\n",
    "        t_var = Variable(var=0, label=\"t\", num_decimal_places=1)"
   ]
  }
 ],
 "metadata": {
  "kernelspec": {
   "display_name": "Python 3 (ipykernel)",
   "language": "python",
   "name": "python3"
  },
  "language_info": {
   "codemirror_mode": {
    "name": "ipython",
    "version": 3
   },
   "file_extension": ".py",
   "mimetype": "text/x-python",
   "name": "python",
   "nbconvert_exporter": "python",
   "pygments_lexer": "ipython3",
   "version": "3.11.11"
  }
 },
 "nbformat": 4,
 "nbformat_minor": 5
}
