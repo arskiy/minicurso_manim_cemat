{
 "cells": [
  {
   "cell_type": "code",
   "execution_count": 1,
   "id": "04caeab1-2baa-4524-83b6-6a62e56b1463",
   "metadata": {},
   "outputs": [
    {
     "name": "stderr",
     "output_type": "stream",
     "text": [
      "/usr/local/lib/python3.11/site-packages/pydub/utils.py:170: RuntimeWarning: Couldn't find ffmpeg or avconv - defaulting to ffmpeg, but may not work\n",
      "  warn(\"Couldn't find ffmpeg or avconv - defaulting to ffmpeg, but may not work\", RuntimeWarning)\n"
     ]
    }
   ],
   "source": [
    "from manim import *\n",
    "\n",
    "config.media_width = \"75%\"\n",
    "config.verbosity = \"WARNING\""
   ]
  },
  {
   "cell_type": "code",
   "execution_count": 19,
   "id": "1e8f4f59-7a33-4d2b-9e18-41ea78c4f676",
   "metadata": {},
   "outputs": [
    {
     "data": {
      "text/html": [
       "<pre style=\"white-space:pre;overflow-x:auto;line-height:normal;font-family:Menlo,'DejaVu Sans Mono',consolas,'Courier New',monospace\">Manim Community <span style=\"color: #008000; text-decoration-color: #008000\">v0.19.0</span>\n",
       "\n",
       "</pre>\n"
      ],
      "text/plain": [
       "Manim Community \u001b[32mv0.\u001b[0m\u001b[32m19.0\u001b[0m\n",
       "\n"
      ]
     },
     "metadata": {},
     "output_type": "display_data"
    },
    {
     "name": "stderr",
     "output_type": "stream",
     "text": [
      "                                                                                               "
     ]
    },
    {
     "data": {
      "text/html": [
       "<video src=\"media/jupyter/CampoPlano@2025-10-03@02-07-20.mp4\" controls autoplay loop style=\"max-width: 75%;\"  >\n",
       "      Your browser does not support the <code>video</code> element.\n",
       "    </video>"
      ],
      "text/plain": [
       "<IPython.core.display.Video object>"
      ]
     },
     "metadata": {},
     "output_type": "display_data"
    }
   ],
   "source": [
    "%%manim -qm CampoPlano\n",
    "\n",
    "class CampoPlano(ZoomedScene):\n",
    "    def construct(self):\n",
    "\n",
    "        eq = MathTex(r\"z \\mapsto z^3\").scale(0.8).to_corner(UL)\n",
    "        self.play(Write(eq), run_time=1.0)\n",
    "        \n",
    "        func = lambda pos: np.array(\n",
    "            [\n",
    "                pos[0] ** 3 - 3 * pos[0] * pos[1] ** 2,\n",
    "                3 * pos[0] ** 2 * pos[1] - pos[1] ** 3,\n",
    "                0,\n",
    "            ]\n",
    "        )\n",
    "        linhas_de_fluxo = StreamLines(func, x_range=[-2, 2, 0.2], y_range=[-1, 1, 0.2], padding=1, stroke_width=2).scale(1.5)\n",
    "        self.add(linhas_de_fluxo)\n",
    "        linhas_de_fluxo.start_animation()\n",
    "        self.wait(10.0)\n",
    "        self.play(linhas_de_fluxo.end_animation())"
   ]
  },
  {
   "cell_type": "code",
   "execution_count": null,
   "id": "0574c52e-5335-45da-a9bf-92a3bc256b7e",
   "metadata": {},
   "outputs": [],
   "source": []
  }
 ],
 "metadata": {
  "kernelspec": {
   "display_name": "Python 3 (ipykernel)",
   "language": "python",
   "name": "python3"
  },
  "language_info": {
   "codemirror_mode": {
    "name": "ipython",
    "version": 3
   },
   "file_extension": ".py",
   "mimetype": "text/x-python",
   "name": "python",
   "nbconvert_exporter": "python",
   "pygments_lexer": "ipython3",
   "version": "3.11.11"
  }
 },
 "nbformat": 4,
 "nbformat_minor": 5
}
